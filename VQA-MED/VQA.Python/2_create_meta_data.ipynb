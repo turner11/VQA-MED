{
 "cells": [
  {
   "cell_type": "markdown",
   "metadata": {},
   "source": [
    "# Creating Meta data"
   ]
  },
  {
   "cell_type": "markdown",
   "metadata": {},
   "source": [
    "In this note book we will create the meta data.  \n",
    "Meta data holds information about which unique words and answers exists in training & validation datasets, and in which categories they appeared.  \n",
    "Later in the process, this information will allow us to build dedicated models for each category."
   ]
  },
  {
   "cell_type": "markdown",
   "metadata": {},
   "source": [
    "### Some main functions we used:"
   ]
  },
  {
   "cell_type": "code",
   "execution_count": 1,
   "metadata": {},
   "outputs": [],
   "source": [
    "import IPython\n",
    "from common.functions import get_highlighted_function_code"
   ]
  },
  {
   "cell_type": "code",
   "execution_count": 2,
   "metadata": {},
   "outputs": [
    {
     "data": {
      "text/html": [
       "<style type=\"text/css\">.highlight .hll { background-color: #ffffcc }\n",
       ".highlight  { background: #f8f8f8; }\n",
       ".highlight .c { color: #408080; font-style: italic } /* Comment */\n",
       ".highlight .err { border: 1px solid #FF0000 } /* Error */\n",
       ".highlight .k { color: #008000; font-weight: bold } /* Keyword */\n",
       ".highlight .o { color: #666666 } /* Operator */\n",
       ".highlight .ch { color: #408080; font-style: italic } /* Comment.Hashbang */\n",
       ".highlight .cm { color: #408080; font-style: italic } /* Comment.Multiline */\n",
       ".highlight .cp { color: #BC7A00 } /* Comment.Preproc */\n",
       ".highlight .cpf { color: #408080; font-style: italic } /* Comment.PreprocFile */\n",
       ".highlight .c1 { color: #408080; font-style: italic } /* Comment.Single */\n",
       ".highlight .cs { color: #408080; font-style: italic } /* Comment.Special */\n",
       ".highlight .gd { color: #A00000 } /* Generic.Deleted */\n",
       ".highlight .ge { font-style: italic } /* Generic.Emph */\n",
       ".highlight .gr { color: #FF0000 } /* Generic.Error */\n",
       ".highlight .gh { color: #000080; font-weight: bold } /* Generic.Heading */\n",
       ".highlight .gi { color: #00A000 } /* Generic.Inserted */\n",
       ".highlight .go { color: #888888 } /* Generic.Output */\n",
       ".highlight .gp { color: #000080; font-weight: bold } /* Generic.Prompt */\n",
       ".highlight .gs { font-weight: bold } /* Generic.Strong */\n",
       ".highlight .gu { color: #800080; font-weight: bold } /* Generic.Subheading */\n",
       ".highlight .gt { color: #0044DD } /* Generic.Traceback */\n",
       ".highlight .kc { color: #008000; font-weight: bold } /* Keyword.Constant */\n",
       ".highlight .kd { color: #008000; font-weight: bold } /* Keyword.Declaration */\n",
       ".highlight .kn { color: #008000; font-weight: bold } /* Keyword.Namespace */\n",
       ".highlight .kp { color: #008000 } /* Keyword.Pseudo */\n",
       ".highlight .kr { color: #008000; font-weight: bold } /* Keyword.Reserved */\n",
       ".highlight .kt { color: #B00040 } /* Keyword.Type */\n",
       ".highlight .m { color: #666666 } /* Literal.Number */\n",
       ".highlight .s { color: #BA2121 } /* Literal.String */\n",
       ".highlight .na { color: #7D9029 } /* Name.Attribute */\n",
       ".highlight .nb { color: #008000 } /* Name.Builtin */\n",
       ".highlight .nc { color: #0000FF; font-weight: bold } /* Name.Class */\n",
       ".highlight .no { color: #880000 } /* Name.Constant */\n",
       ".highlight .nd { color: #AA22FF } /* Name.Decorator */\n",
       ".highlight .ni { color: #999999; font-weight: bold } /* Name.Entity */\n",
       ".highlight .ne { color: #D2413A; font-weight: bold } /* Name.Exception */\n",
       ".highlight .nf { color: #0000FF } /* Name.Function */\n",
       ".highlight .nl { color: #A0A000 } /* Name.Label */\n",
       ".highlight .nn { color: #0000FF; font-weight: bold } /* Name.Namespace */\n",
       ".highlight .nt { color: #008000; font-weight: bold } /* Name.Tag */\n",
       ".highlight .nv { color: #19177C } /* Name.Variable */\n",
       ".highlight .ow { color: #AA22FF; font-weight: bold } /* Operator.Word */\n",
       ".highlight .w { color: #bbbbbb } /* Text.Whitespace */\n",
       ".highlight .mb { color: #666666 } /* Literal.Number.Bin */\n",
       ".highlight .mf { color: #666666 } /* Literal.Number.Float */\n",
       ".highlight .mh { color: #666666 } /* Literal.Number.Hex */\n",
       ".highlight .mi { color: #666666 } /* Literal.Number.Integer */\n",
       ".highlight .mo { color: #666666 } /* Literal.Number.Oct */\n",
       ".highlight .sa { color: #BA2121 } /* Literal.String.Affix */\n",
       ".highlight .sb { color: #BA2121 } /* Literal.String.Backtick */\n",
       ".highlight .sc { color: #BA2121 } /* Literal.String.Char */\n",
       ".highlight .dl { color: #BA2121 } /* Literal.String.Delimiter */\n",
       ".highlight .sd { color: #BA2121; font-style: italic } /* Literal.String.Doc */\n",
       ".highlight .s2 { color: #BA2121 } /* Literal.String.Double */\n",
       ".highlight .se { color: #BB6622; font-weight: bold } /* Literal.String.Escape */\n",
       ".highlight .sh { color: #BA2121 } /* Literal.String.Heredoc */\n",
       ".highlight .si { color: #BB6688; font-weight: bold } /* Literal.String.Interpol */\n",
       ".highlight .sx { color: #008000 } /* Literal.String.Other */\n",
       ".highlight .sr { color: #BB6688 } /* Literal.String.Regex */\n",
       ".highlight .s1 { color: #BA2121 } /* Literal.String.Single */\n",
       ".highlight .ss { color: #19177C } /* Literal.String.Symbol */\n",
       ".highlight .bp { color: #008000 } /* Name.Builtin.Pseudo */\n",
       ".highlight .fm { color: #0000FF } /* Name.Function.Magic */\n",
       ".highlight .vc { color: #19177C } /* Name.Variable.Class */\n",
       ".highlight .vg { color: #19177C } /* Name.Variable.Global */\n",
       ".highlight .vi { color: #19177C } /* Name.Variable.Instance */\n",
       ".highlight .vm { color: #19177C } /* Name.Variable.Magic */\n",
       ".highlight .il { color: #666666 } /* Literal.Number.Integer.Long */</style><div class=\"highlight\"><pre><span></span><span class=\"k\">def</span> <span class=\"nf\">create_meta</span><span class=\"p\">(</span><span class=\"n\">df</span><span class=\"p\">):</span>\n",
       "    <span class=\"n\">df</span> <span class=\"o\">=</span> <span class=\"n\">_get_data_frame_from_arg</span><span class=\"p\">(</span><span class=\"n\">df</span><span class=\"p\">)</span>\n",
       "    <span class=\"n\">logger</span><span class=\"o\">.</span><span class=\"n\">debug</span><span class=\"p\">(</span><span class=\"n\">f</span><span class=\"s2\">&quot;Data frame had {len(df)} rows&quot;</span><span class=\"p\">)</span>\n",
       "\n",
       "\n",
       "    <span class=\"c1\">## Answers</span>\n",
       "    <span class=\"n\">ans_columns</span> <span class=\"o\">=</span> <span class=\"p\">[</span><span class=\"s1\">&#39;processed_answer&#39;</span><span class=\"p\">,</span> <span class=\"s1\">&#39;question_category&#39;</span><span class=\"p\">]</span>\n",
       "\n",
       "    <span class=\"n\">dd</span> <span class=\"o\">=</span> <span class=\"n\">df</span><span class=\"p\">[</span><span class=\"n\">ans_columns</span><span class=\"p\">]</span><span class=\"o\">.</span><span class=\"n\">groupby</span><span class=\"p\">(</span><span class=\"s1\">&#39;processed_answer&#39;</span><span class=\"p\">)</span><span class=\"o\">.</span><span class=\"n\">agg</span><span class=\"p\">(</span><span class=\"k\">lambda</span> <span class=\"n\">x</span><span class=\"p\">:</span> <span class=\"nb\">tuple</span><span class=\"p\">(</span><span class=\"n\">x</span><span class=\"p\">))</span><span class=\"o\">.</span><span class=\"n\">applymap</span><span class=\"p\">(</span><span class=\"nb\">set</span><span class=\"p\">)</span><span class=\"o\">.</span><span class=\"n\">applymap</span><span class=\"p\">(</span><span class=\"s1\">&#39; &#39;</span><span class=\"o\">.</span><span class=\"n\">join</span><span class=\"p\">)</span><span class=\"o\">.</span><span class=\"n\">reset_index</span><span class=\"p\">()</span>\n",
       "    <span class=\"n\">dd</span> <span class=\"o\">=</span> <span class=\"n\">dd</span><span class=\"p\">[</span><span class=\"n\">dd</span><span class=\"o\">.</span><span class=\"n\">processed_answer</span><span class=\"o\">.</span><span class=\"n\">str</span><span class=\"o\">.</span><span class=\"n\">strip</span><span class=\"p\">()</span><span class=\"o\">.</span><span class=\"n\">str</span><span class=\"o\">.</span><span class=\"n\">len</span><span class=\"p\">()</span> <span class=\"o\">&gt;</span> <span class=\"mi\">0</span><span class=\"p\">]</span>\n",
       "    <span class=\"n\">dd</span><span class=\"p\">[</span><span class=\"s1\">&#39;processed_answer&#39;</span><span class=\"p\">]</span> <span class=\"o\">=</span> <span class=\"n\">dd</span><span class=\"o\">.</span><span class=\"n\">processed_answer</span><span class=\"o\">.</span><span class=\"n\">str</span><span class=\"o\">.</span><span class=\"n\">strip</span><span class=\"p\">()</span>\n",
       "    <span class=\"n\">df_ans</span> <span class=\"o\">=</span> <span class=\"n\">dd</span><span class=\"o\">.</span><span class=\"n\">drop_duplicates</span><span class=\"p\">(</span><span class=\"n\">subset</span><span class=\"o\">=</span><span class=\"s1\">&#39;processed_answer&#39;</span><span class=\"p\">)</span>\n",
       "\n",
       "    <span class=\"c1\">## Words</span>\n",
       "    <span class=\"c1\"># Splitting answers</span>\n",
       "    <span class=\"n\">df_words</span> <span class=\"o\">=</span> <span class=\"n\">pd</span><span class=\"o\">.</span><span class=\"n\">DataFrame</span><span class=\"p\">(</span><span class=\"n\">df_ans</span><span class=\"o\">.</span><span class=\"n\">processed_answer</span><span class=\"o\">.</span><span class=\"n\">str</span><span class=\"o\">.</span><span class=\"n\">split</span><span class=\"p\">(</span><span class=\"s1\">&#39; &#39;</span><span class=\"p\">)</span><span class=\"o\">.</span><span class=\"n\">tolist</span><span class=\"p\">(),</span> <span class=\"n\">index</span><span class=\"o\">=</span><span class=\"n\">df_ans</span><span class=\"o\">.</span><span class=\"n\">question_category</span><span class=\"p\">)</span><span class=\"o\">.</span><span class=\"n\">stack</span><span class=\"p\">()</span>\n",
       "    <span class=\"n\">df_words</span> <span class=\"o\">=</span> <span class=\"n\">df_words</span><span class=\"o\">.</span><span class=\"n\">reset_index</span><span class=\"p\">()[[</span><span class=\"mi\">0</span><span class=\"p\">,</span> <span class=\"s1\">&#39;question_category&#39;</span><span class=\"p\">]]</span>  <span class=\"c1\"># answer is currently labeled 0</span>\n",
       "    <span class=\"n\">df_words</span><span class=\"o\">.</span><span class=\"n\">columns</span> <span class=\"o\">=</span> <span class=\"p\">[</span><span class=\"s1\">&#39;word&#39;</span><span class=\"p\">,</span> <span class=\"s1\">&#39;question_category&#39;</span><span class=\"p\">]</span>  <span class=\"c1\"># renaming</span>\n",
       "    <span class=\"n\">df_words</span><span class=\"p\">[</span><span class=\"s1\">&#39;word&#39;</span><span class=\"p\">]</span> <span class=\"o\">=</span> <span class=\"n\">df_words</span><span class=\"o\">.</span><span class=\"n\">word</span><span class=\"o\">.</span><span class=\"n\">str</span><span class=\"o\">.</span><span class=\"n\">replace</span><span class=\"p\">(</span><span class=\"s1\">&#39;[^a-zA-Z]&#39;</span><span class=\"p\">,</span> <span class=\"s1\">&#39;&#39;</span><span class=\"p\">)</span><span class=\"o\">.</span><span class=\"n\">str</span><span class=\"o\">.</span><span class=\"n\">strip</span><span class=\"p\">()</span>\n",
       "\n",
       "    <span class=\"n\">english_stopwords</span> <span class=\"o\">=</span> <span class=\"nb\">set</span><span class=\"p\">(</span><span class=\"n\">stopwords</span><span class=\"o\">.</span><span class=\"n\">words</span><span class=\"p\">(</span><span class=\"s1\">&#39;english&#39;</span><span class=\"p\">))</span>\n",
       "    <span class=\"n\">stops</span> <span class=\"o\">=</span> <span class=\"p\">(</span><span class=\"n\">english_stopwords</span> <span class=\"o\">-</span> <span class=\"p\">{</span><span class=\"s1\">&#39;no&#39;</span><span class=\"p\">,</span> <span class=\"s1\">&#39;yes&#39;</span><span class=\"p\">})</span><span class=\"o\">.</span><span class=\"n\">union</span><span class=\"p\">({</span><span class=\"s1\">&#39;th&#39;</span><span class=\"p\">})</span>\n",
       "\n",
       "    <span class=\"n\">df_words</span> <span class=\"o\">=</span> <span class=\"n\">df_words</span><span class=\"p\">[</span><span class=\"o\">~</span><span class=\"n\">df_words</span><span class=\"o\">.</span><span class=\"n\">word</span><span class=\"o\">.</span><span class=\"n\">isin</span><span class=\"p\">(</span><span class=\"n\">stops</span><span class=\"p\">)]</span>\n",
       "\n",
       "    <span class=\"c1\"># Grouping words</span>\n",
       "    <span class=\"n\">df_unique_words</span> <span class=\"o\">=</span> <span class=\"n\">df_words</span><span class=\"o\">.</span><span class=\"n\">groupby</span><span class=\"p\">(</span><span class=\"s1\">&#39;word&#39;</span><span class=\"p\">)</span><span class=\"o\">.</span><span class=\"n\">agg</span><span class=\"p\">(</span><span class=\"k\">lambda</span> <span class=\"n\">x</span><span class=\"p\">:</span> <span class=\"nb\">tuple</span><span class=\"p\">(</span><span class=\"n\">x</span><span class=\"p\">))</span><span class=\"o\">.</span><span class=\"n\">applymap</span><span class=\"p\">(</span><span class=\"nb\">set</span><span class=\"p\">)</span><span class=\"o\">.</span><span class=\"n\">applymap</span><span class=\"p\">(</span><span class=\"s1\">&#39; &#39;</span><span class=\"o\">.</span><span class=\"n\">join</span><span class=\"p\">)</span><span class=\"o\">.</span><span class=\"n\">reset_index</span><span class=\"p\">()</span>\n",
       "    <span class=\"n\">df_unique_words</span> <span class=\"o\">=</span> <span class=\"n\">df_unique_words</span><span class=\"p\">[</span><span class=\"n\">df_unique_words</span><span class=\"o\">.</span><span class=\"n\">word</span><span class=\"o\">.</span><span class=\"n\">str</span><span class=\"o\">.</span><span class=\"n\">len</span><span class=\"p\">()</span> <span class=\"o\">&gt;</span> <span class=\"mi\">0</span><span class=\"p\">]</span>\n",
       "\n",
       "\n",
       "    <span class=\"n\">ret_words</span> <span class=\"o\">=</span> <span class=\"n\">df_unique_words</span><span class=\"o\">.</span><span class=\"n\">reset_index</span><span class=\"p\">(</span><span class=\"n\">drop</span><span class=\"o\">=</span><span class=\"bp\">True</span><span class=\"p\">)</span>\n",
       "    <span class=\"n\">ret_answers</span> <span class=\"o\">=</span> <span class=\"n\">df_ans</span><span class=\"o\">.</span><span class=\"n\">reset_index</span><span class=\"p\">(</span><span class=\"n\">drop</span><span class=\"o\">=</span><span class=\"bp\">True</span><span class=\"p\">)</span>\n",
       "    <span class=\"n\">df_dict</span> <span class=\"o\">=</span> <span class=\"p\">{</span><span class=\"s1\">&#39;words&#39;</span><span class=\"p\">:</span> <span class=\"n\">ret_words</span><span class=\"p\">,</span> <span class=\"s1\">&#39;answers&#39;</span><span class=\"p\">:</span> <span class=\"n\">ret_answers</span> <span class=\"p\">}</span>\n",
       "    <span class=\"k\">return</span> <span class=\"n\">df_dict</span>\n",
       "</pre></div>\n"
      ],
      "text/plain": [
       "<IPython.core.display.HTML object>"
      ]
     },
     "metadata": {},
     "output_type": "display_data"
    }
   ],
   "source": [
    "from pre_processing.meta_data import create_meta\n",
    "code = get_highlighted_function_code(create_meta,remove_comments=False)\n",
    "IPython.display.display(code)  "
   ]
  },
  {
   "cell_type": "markdown",
   "metadata": {},
   "source": [
    "---\n",
    "## The code:"
   ]
  },
  {
   "cell_type": "code",
   "execution_count": 3,
   "metadata": {},
   "outputs": [],
   "source": [
    "import os\n",
    "import pandas as pd\n",
    "pd.set_option('display.max_colwidth', -1)"
   ]
  },
  {
   "cell_type": "code",
   "execution_count": 4,
   "metadata": {},
   "outputs": [],
   "source": [
    "from common.settings import data_access\n",
    "import vqa_logger \n",
    "from pre_processing.meta_data import create_meta"
   ]
  },
  {
   "cell_type": "markdown",
   "metadata": {},
   "source": [
    "Creating the meta data. Note the only things required in the input dataframe are:\n",
    "1. image_name\n",
    "2. processed question\n",
    "3. processed answer\n"
   ]
  },
  {
   "cell_type": "code",
   "execution_count": 5,
   "metadata": {},
   "outputs": [
    {
     "name": "stdout",
     "output_type": "stream",
     "text": [
      "[2021-09-20 11:14:30][data_access.api][DEBUG] loading processed data from:\n",
      "C:\\Users\\avitu\\Documents\\GitHub\\VQA-MED\\VQA-MED\\VQA.Python\\data\\model_input.parquet\n",
      "[2021-09-20 11:14:30][data_access.api][DEBUG] loading parquet from:\n",
      "C:\\Users\\avitu\\Documents\\GitHub\\VQA-MED\\VQA-MED\\VQA.Python\\data\\model_input.parquet\n",
      "[2021-09-20 11:14:30][common.utils][DEBUG] Starting 'Loading parquet'\n",
      "[2021-09-20 11:14:30][common.utils][DEBUG] Loading parquet: 0:00:00.025920\n",
      "[2021-09-20 11:14:30][common.utils][DEBUG] Starting 'Converting to pandas'\n",
      "[2021-09-20 11:14:30][common.utils][DEBUG] Converting to pandas: 0:00:00.019710\n",
      "Data length: 15292\n"
     ]
    }
   ],
   "source": [
    "# index\timage_name\tquestion\tanswer\tgroup\tpath\toriginal_question\toriginal_answer\ttumor\thematoma\tbrain\tabdomen\tneck\tliver\timaging_device\tanswer_embedding\tquestion_embedding\tis_imaging_device_question\n",
    "df_data = data_access.load_processed_data(columns=['path','question','answer', 'processed_question','processed_answer', 'group','question_category'])        \n",
    "df_data = df_data[df_data.group.isin(['train','validation', 'test'])]\n",
    "print(f'Data length: {len(df_data)}')        "
   ]
  },
  {
   "cell_type": "markdown",
   "metadata": {},
   "source": [
    "The input data:"
   ]
  },
  {
   "cell_type": "code",
   "execution_count": 6,
   "metadata": {},
   "outputs": [
    {
     "data": {
      "text/html": [
       "<div>\n",
       "<style scoped>\n",
       "    .dataframe tbody tr th:only-of-type {\n",
       "        vertical-align: middle;\n",
       "    }\n",
       "\n",
       "    .dataframe tbody tr th {\n",
       "        vertical-align: top;\n",
       "    }\n",
       "\n",
       "    .dataframe thead th {\n",
       "        text-align: right;\n",
       "    }\n",
       "</style>\n",
       "<table border=\"1\" class=\"dataframe\">\n",
       "  <thead>\n",
       "    <tr style=\"text-align: right;\">\n",
       "      <th></th>\n",
       "      <th>path</th>\n",
       "      <th>question</th>\n",
       "      <th>answer</th>\n",
       "      <th>processed_question</th>\n",
       "      <th>processed_answer</th>\n",
       "      <th>question_category</th>\n",
       "      <th>group</th>\n",
       "    </tr>\n",
       "  </thead>\n",
       "  <tbody>\n",
       "    <tr>\n",
       "      <th>8789</th>\n",
       "      <td>C:\\Users\\Public\\Documents\\Data\\2019\\train\\Train_images\\synpic40625.jpg</td>\n",
       "      <td>what organ system is pictured here?</td>\n",
       "      <td>skull and contents</td>\n",
       "      <td>what organ system is pictured here</td>\n",
       "      <td>skull and contents</td>\n",
       "      <td>Organ</td>\n",
       "      <td>train</td>\n",
       "    </tr>\n",
       "    <tr>\n",
       "      <th>5834</th>\n",
       "      <td>C:\\Users\\Public\\Documents\\Data\\2019\\train\\Train_images\\synpic16441.jpg</td>\n",
       "      <td>in which plane is the ct scan displayed?</td>\n",
       "      <td>axial</td>\n",
       "      <td>in which plane is the ct scan displayed</td>\n",
       "      <td>axial</td>\n",
       "      <td>Plane</td>\n",
       "      <td>train</td>\n",
       "    </tr>\n",
       "  </tbody>\n",
       "</table>\n",
       "</div>"
      ],
      "text/plain": [
       "                                                                        path  \\\n",
       "8789  C:\\Users\\Public\\Documents\\Data\\2019\\train\\Train_images\\synpic40625.jpg   \n",
       "5834  C:\\Users\\Public\\Documents\\Data\\2019\\train\\Train_images\\synpic16441.jpg   \n",
       "\n",
       "                                      question              answer  \\\n",
       "8789  what organ system is pictured here?       skull and contents   \n",
       "5834  in which plane is the ct scan displayed?  axial                \n",
       "\n",
       "                           processed_question    processed_answer  \\\n",
       "8789  what organ system is pictured here       skull and contents   \n",
       "5834  in which plane is the ct scan displayed  axial                \n",
       "\n",
       "     question_category  group  \n",
       "8789  Organ             train  \n",
       "5834  Plane             train  "
      ]
     },
     "execution_count": 6,
     "metadata": {},
     "output_type": "execute_result"
    }
   ],
   "source": [
    "df_data.sample(2)"
   ]
  },
  {
   "cell_type": "code",
   "execution_count": 7,
   "metadata": {
    "collapsed": false,
    "jupyter": {
     "outputs_hidden": false
    }
   },
   "outputs": [
    {
     "name": "stdout",
     "output_type": "stream",
     "text": [
      "----- Creating meta -----\n",
      "[2021-09-20 11:14:30][pre_processing.meta_data][DEBUG] Data frame had 14792 rows\n"
     ]
    }
   ],
   "source": [
    "print(\"----- Creating meta -----\")\n",
    "meta_data_dict = create_meta(df_data)"
   ]
  },
  {
   "cell_type": "markdown",
   "metadata": {},
   "source": [
    "#### Saving the data, so later on we don't need to compute it again"
   ]
  },
  {
   "cell_type": "code",
   "execution_count": 8,
   "metadata": {},
   "outputs": [
    {
     "name": "stdout",
     "output_type": "stream",
     "text": [
      "----- Saving meta -----\n",
      "[2021-09-20 11:14:31][data_access.api][DEBUG] Meta number of unique answers: 1675\n",
      "[2021-09-20 11:14:31][data_access.api][DEBUG] Meta number of unique words: 2073\n"
     ]
    }
   ],
   "source": [
    "print(\"----- Saving meta -----\")\n",
    "data_access.save_meta(meta_data_dict)"
   ]
  },
  {
   "cell_type": "markdown",
   "metadata": {},
   "source": [
    "##### Test Loading:"
   ]
  },
  {
   "cell_type": "code",
   "execution_count": 9,
   "metadata": {},
   "outputs": [
    {
     "data": {
      "text/plain": [
       "count     1675       \n",
       "unique    5          \n",
       "top       Abnormality\n",
       "freq      1604       \n",
       "Name: question_category, dtype: object"
      ]
     },
     "execution_count": 9,
     "metadata": {},
     "output_type": "execute_result"
    }
   ],
   "source": [
    "loaded_meta = data_access.load_meta()\n",
    "answers_meta = loaded_meta['answers']\n",
    "words_meta = loaded_meta['words']\n",
    "\n",
    "\n",
    "answers_meta.question_category.describe()\n",
    "# words_meta.question_category.describe()\n",
    "\n",
    "# answers_meta.sample(5)\n",
    "# words_meta.sample(5)\n",
    "\n",
    "# words_meta.question_category.drop_duplicates()"
   ]
  },
  {
   "cell_type": "markdown",
   "metadata": {},
   "source": [
    "View the data:"
   ]
  },
  {
   "cell_type": "code",
   "execution_count": 10,
   "metadata": {},
   "outputs": [
    {
     "data": {
      "text/html": [
       "<table style=\"display:inline\" border=\"1\" class=\"dataframe\">\n",
       "  <thead>\n",
       "    <tr style=\"text-align: right;\">\n",
       "      <th></th>\n",
       "      <th>processed_answer</th>\n",
       "      <th>question_category</th>\n",
       "    </tr>\n",
       "  </thead>\n",
       "  <tbody>\n",
       "    <tr>\n",
       "      <th>1355</th>\n",
       "      <td>right sided aortic arch</td>\n",
       "      <td>Abnormality</td>\n",
       "    </tr>\n",
       "    <tr>\n",
       "      <th>609</th>\n",
       "      <td>full thickness rotator cuff tear</td>\n",
       "      <td>Abnormality</td>\n",
       "    </tr>\n",
       "    <tr>\n",
       "      <th>432</th>\n",
       "      <td>cystic hygroma turner syndrome</td>\n",
       "      <td>Abnormality</td>\n",
       "    </tr>\n",
       "    <tr>\n",
       "      <th>1304</th>\n",
       "      <td>pulmonary sequestration</td>\n",
       "      <td>Abnormality</td>\n",
       "    </tr>\n",
       "    <tr>\n",
       "      <th>1348</th>\n",
       "      <td>rickets due to renal failure</td>\n",
       "      <td>Abnormality</td>\n",
       "    </tr>\n",
       "  </tbody>\n",
       "</table style=\"display:inline\"><table style=\"display:inline\" border=\"1\" class=\"dataframe\">\n",
       "  <thead>\n",
       "    <tr style=\"text-align: right;\">\n",
       "      <th></th>\n",
       "      <th>word</th>\n",
       "      <th>question_category</th>\n",
       "    </tr>\n",
       "  </thead>\n",
       "  <tbody>\n",
       "    <tr>\n",
       "      <th>269</th>\n",
       "      <td>cavernous</td>\n",
       "      <td>Abnormality</td>\n",
       "    </tr>\n",
       "    <tr>\n",
       "      <th>1039</th>\n",
       "      <td>lefort</td>\n",
       "      <td>Abnormality</td>\n",
       "    </tr>\n",
       "    <tr>\n",
       "      <th>124</th>\n",
       "      <td>arteriovenous</td>\n",
       "      <td>Abnormality</td>\n",
       "    </tr>\n",
       "    <tr>\n",
       "      <th>910</th>\n",
       "      <td>ileal</td>\n",
       "      <td>Abnormality</td>\n",
       "    </tr>\n",
       "    <tr>\n",
       "      <th>2006</th>\n",
       "      <td>variants</td>\n",
       "      <td>Abnormality</td>\n",
       "    </tr>\n",
       "  </tbody>\n",
       "</table style=\"display:inline\">"
      ]
     },
     "metadata": {},
     "output_type": "display_data"
    }
   ],
   "source": [
    "from IPython.display import display_html\n",
    "def display_side_by_side(*data_frames):\n",
    "    html_str=''\n",
    "    for df in data_frames:\n",
    "        html_str+=df.to_html()\n",
    "    display_html(html_str.replace('table','table style=\"display:inline\"'),raw=True)\n",
    "\n",
    "display_side_by_side(answers_meta.sample(5), words_meta.sample(5))   "
   ]
  }
 ],
 "metadata": {
  "kernelspec": {
   "display_name": "Python 3",
   "language": "python",
   "name": "python3"
  },
  "language_info": {
   "codemirror_mode": {
    "name": "ipython",
    "version": 3
   },
   "file_extension": ".py",
   "mimetype": "text/x-python",
   "name": "python",
   "nbconvert_exporter": "python",
   "pygments_lexer": "ipython3",
   "version": "3.6.7"
  }
 },
 "nbformat": 4,
 "nbformat_minor": 4
}
