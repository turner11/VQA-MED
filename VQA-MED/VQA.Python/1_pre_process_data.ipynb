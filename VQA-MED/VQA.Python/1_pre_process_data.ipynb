{
 "cells": [
  {
   "cell_type": "markdown",
   "metadata": {},
   "source": [
    "# Preprocessing Data"
   ]
  },
  {
   "cell_type": "markdown",
   "metadata": {},
   "source": [
    "In this notebook we will produce the  model input data.  \n",
    "For that, we will  **clean** the data and **enrich**  it, and then **extract** features from raw data.  \n",
    "This includes:  \n",
    "1. Cleaning the questions / answers (removing stop words, tokenizing)\n",
    "2. Enrichment: Marking diagnosis using thumb rules (Note: Eventually, we did not use this data)  \n",
    "3. Enrichment: Adding a question category to data (given in train / validation sets, thumb rules + prediction to test set)\n",
    "4. Pre processing: Getting Embedding for questions (get_text_features)  \n",
    "    For this, we used Spacy's NLP package"
   ]
  },
  {
   "cell_type": "markdown",
   "metadata": {},
   "source": [
    "### Some main functions we used:"
   ]
  },
  {
   "cell_type": "code",
   "execution_count": 1,
   "metadata": {},
   "outputs": [],
   "source": [
    "import IPython\n",
    "from common.functions import get_highlighted_function_code"
   ]
  },
  {
   "cell_type": "markdown",
   "metadata": {},
   "source": [
    "#### get_text_features for getting embedding of text"
   ]
  },
  {
   "cell_type": "code",
   "execution_count": 2,
   "metadata": {},
   "outputs": [
    {
     "data": {
      "text/html": [
       "<style type=\"text/css\">.highlight .hll { background-color: #ffffcc }\n",
       ".highlight  { background: #f8f8f8; }\n",
       ".highlight .c { color: #408080; font-style: italic } /* Comment */\n",
       ".highlight .err { border: 1px solid #FF0000 } /* Error */\n",
       ".highlight .k { color: #008000; font-weight: bold } /* Keyword */\n",
       ".highlight .o { color: #666666 } /* Operator */\n",
       ".highlight .ch { color: #408080; font-style: italic } /* Comment.Hashbang */\n",
       ".highlight .cm { color: #408080; font-style: italic } /* Comment.Multiline */\n",
       ".highlight .cp { color: #BC7A00 } /* Comment.Preproc */\n",
       ".highlight .cpf { color: #408080; font-style: italic } /* Comment.PreprocFile */\n",
       ".highlight .c1 { color: #408080; font-style: italic } /* Comment.Single */\n",
       ".highlight .cs { color: #408080; font-style: italic } /* Comment.Special */\n",
       ".highlight .gd { color: #A00000 } /* Generic.Deleted */\n",
       ".highlight .ge { font-style: italic } /* Generic.Emph */\n",
       ".highlight .gr { color: #FF0000 } /* Generic.Error */\n",
       ".highlight .gh { color: #000080; font-weight: bold } /* Generic.Heading */\n",
       ".highlight .gi { color: #00A000 } /* Generic.Inserted */\n",
       ".highlight .go { color: #888888 } /* Generic.Output */\n",
       ".highlight .gp { color: #000080; font-weight: bold } /* Generic.Prompt */\n",
       ".highlight .gs { font-weight: bold } /* Generic.Strong */\n",
       ".highlight .gu { color: #800080; font-weight: bold } /* Generic.Subheading */\n",
       ".highlight .gt { color: #0044DD } /* Generic.Traceback */\n",
       ".highlight .kc { color: #008000; font-weight: bold } /* Keyword.Constant */\n",
       ".highlight .kd { color: #008000; font-weight: bold } /* Keyword.Declaration */\n",
       ".highlight .kn { color: #008000; font-weight: bold } /* Keyword.Namespace */\n",
       ".highlight .kp { color: #008000 } /* Keyword.Pseudo */\n",
       ".highlight .kr { color: #008000; font-weight: bold } /* Keyword.Reserved */\n",
       ".highlight .kt { color: #B00040 } /* Keyword.Type */\n",
       ".highlight .m { color: #666666 } /* Literal.Number */\n",
       ".highlight .s { color: #BA2121 } /* Literal.String */\n",
       ".highlight .na { color: #7D9029 } /* Name.Attribute */\n",
       ".highlight .nb { color: #008000 } /* Name.Builtin */\n",
       ".highlight .nc { color: #0000FF; font-weight: bold } /* Name.Class */\n",
       ".highlight .no { color: #880000 } /* Name.Constant */\n",
       ".highlight .nd { color: #AA22FF } /* Name.Decorator */\n",
       ".highlight .ni { color: #999999; font-weight: bold } /* Name.Entity */\n",
       ".highlight .ne { color: #D2413A; font-weight: bold } /* Name.Exception */\n",
       ".highlight .nf { color: #0000FF } /* Name.Function */\n",
       ".highlight .nl { color: #A0A000 } /* Name.Label */\n",
       ".highlight .nn { color: #0000FF; font-weight: bold } /* Name.Namespace */\n",
       ".highlight .nt { color: #008000; font-weight: bold } /* Name.Tag */\n",
       ".highlight .nv { color: #19177C } /* Name.Variable */\n",
       ".highlight .ow { color: #AA22FF; font-weight: bold } /* Operator.Word */\n",
       ".highlight .w { color: #bbbbbb } /* Text.Whitespace */\n",
       ".highlight .mb { color: #666666 } /* Literal.Number.Bin */\n",
       ".highlight .mf { color: #666666 } /* Literal.Number.Float */\n",
       ".highlight .mh { color: #666666 } /* Literal.Number.Hex */\n",
       ".highlight .mi { color: #666666 } /* Literal.Number.Integer */\n",
       ".highlight .mo { color: #666666 } /* Literal.Number.Oct */\n",
       ".highlight .sa { color: #BA2121 } /* Literal.String.Affix */\n",
       ".highlight .sb { color: #BA2121 } /* Literal.String.Backtick */\n",
       ".highlight .sc { color: #BA2121 } /* Literal.String.Char */\n",
       ".highlight .dl { color: #BA2121 } /* Literal.String.Delimiter */\n",
       ".highlight .sd { color: #BA2121; font-style: italic } /* Literal.String.Doc */\n",
       ".highlight .s2 { color: #BA2121 } /* Literal.String.Double */\n",
       ".highlight .se { color: #BB6622; font-weight: bold } /* Literal.String.Escape */\n",
       ".highlight .sh { color: #BA2121 } /* Literal.String.Heredoc */\n",
       ".highlight .si { color: #BB6688; font-weight: bold } /* Literal.String.Interpol */\n",
       ".highlight .sx { color: #008000 } /* Literal.String.Other */\n",
       ".highlight .sr { color: #BB6688 } /* Literal.String.Regex */\n",
       ".highlight .s1 { color: #BA2121 } /* Literal.String.Single */\n",
       ".highlight .ss { color: #19177C } /* Literal.String.Symbol */\n",
       ".highlight .bp { color: #008000 } /* Name.Builtin.Pseudo */\n",
       ".highlight .fm { color: #0000FF } /* Name.Function.Magic */\n",
       ".highlight .vc { color: #19177C } /* Name.Variable.Class */\n",
       ".highlight .vg { color: #19177C } /* Name.Variable.Global */\n",
       ".highlight .vi { color: #19177C } /* Name.Variable.Instance */\n",
       ".highlight .vm { color: #19177C } /* Name.Variable.Magic */\n",
       ".highlight .il { color: #666666 } /* Literal.Number.Integer.Long */</style><div class=\"highlight\"><pre><span></span><span class=\"k\">def</span> <span class=\"nf\">get_text_features</span><span class=\"p\">(</span><span class=\"n\">txt</span><span class=\"p\">):</span>\n",
       "    <span class=\"sd\">&quot;&quot;&quot; For a given txt, a unicode string, returns the time series vector</span>\n",
       "<span class=\"sd\">    with each word (token) transformed into a 300 dimension representation</span>\n",
       "<span class=\"sd\">    calculated using Glove Vector &quot;&quot;&quot;</span>\n",
       "\n",
       "    <span class=\"n\">text_features</span> <span class=\"o\">=</span> <span class=\"n\">np</span><span class=\"o\">.</span><span class=\"n\">zeros</span><span class=\"p\">((</span><span class=\"mi\">1</span><span class=\"p\">,</span> <span class=\"n\">input_length</span><span class=\"p\">,</span> <span class=\"n\">embedding_dim</span><span class=\"p\">),</span> <span class=\"n\">dtype</span><span class=\"o\">=</span><span class=\"nb\">float</span><span class=\"p\">)</span>\n",
       "\n",
       "    <span class=\"n\">no_data</span> <span class=\"o\">=</span> <span class=\"n\">txt</span> <span class=\"o\">==</span> <span class=\"s1\">&#39;&#39;</span> <span class=\"ow\">or</span> <span class=\"n\">txt</span> <span class=\"ow\">is</span> <span class=\"bp\">None</span> <span class=\"ow\">or</span> <span class=\"p\">(</span><span class=\"nb\">isinstance</span><span class=\"p\">(</span><span class=\"n\">txt</span><span class=\"p\">,</span> <span class=\"nb\">float</span><span class=\"p\">)</span> <span class=\"ow\">and</span> <span class=\"n\">math</span><span class=\"o\">.</span><span class=\"n\">isnan</span><span class=\"p\">(</span><span class=\"n\">txt</span><span class=\"p\">))</span>\n",
       "    <span class=\"k\">if</span> <span class=\"n\">no_data</span><span class=\"p\">:</span>\n",
       "        <span class=\"k\">pass</span>\n",
       "    <span class=\"k\">elif</span> <span class=\"ow\">not</span> <span class=\"nb\">isinstance</span><span class=\"p\">(</span><span class=\"n\">txt</span><span class=\"p\">,</span> <span class=\"nb\">str</span><span class=\"p\">):</span>\n",
       "        <span class=\"k\">raise</span> <span class=\"ne\">Exception</span><span class=\"p\">(</span><span class=\"n\">f</span><span class=\"s1\">&#39;Got an unexpected type for text features: {type(txt).__name__}</span><span class=\"se\">\\n</span><span class=\"s1\"> (value was {str(txt)[:20]})&#39;</span><span class=\"p\">)</span>\n",
       "    <span class=\"k\">else</span><span class=\"p\">:</span>\n",
       "        <span class=\"k\">try</span><span class=\"p\">:</span>\n",
       "\n",
       "            <span class=\"n\">nlp</span> <span class=\"o\">=</span> <span class=\"n\">get_nlp</span><span class=\"p\">()</span>\n",
       "            <span class=\"n\">tokens</span> <span class=\"o\">=</span> <span class=\"n\">nlp</span><span class=\"p\">(</span><span class=\"n\">txt</span><span class=\"p\">)</span>\n",
       "            <span class=\"n\">num_tokens_to_take</span> <span class=\"o\">=</span> <span class=\"nb\">min</span><span class=\"p\">([</span><span class=\"n\">input_length</span><span class=\"p\">,</span> <span class=\"nb\">len</span><span class=\"p\">(</span><span class=\"n\">tokens</span><span class=\"p\">)])</span>\n",
       "            <span class=\"n\">trimmed_tokens</span> <span class=\"o\">=</span> <span class=\"n\">tokens</span><span class=\"p\">[:</span><span class=\"n\">num_tokens_to_take</span><span class=\"p\">]</span>\n",
       "\n",
       "            <span class=\"k\">for</span> <span class=\"n\">j</span><span class=\"p\">,</span> <span class=\"n\">token</span> <span class=\"ow\">in</span> <span class=\"nb\">enumerate</span><span class=\"p\">(</span><span class=\"n\">trimmed_tokens</span><span class=\"p\">):</span>\n",
       "                <span class=\"n\">text_features</span><span class=\"p\">[</span><span class=\"mi\">0</span><span class=\"p\">,</span> <span class=\"n\">j</span><span class=\"p\">,</span> <span class=\"p\">:]</span> <span class=\"o\">=</span> <span class=\"n\">token</span><span class=\"o\">.</span><span class=\"n\">vector</span>\n",
       "\n",
       "        <span class=\"k\">except</span> <span class=\"ne\">Exception</span> <span class=\"k\">as</span> <span class=\"n\">ex</span><span class=\"p\">:</span>\n",
       "            <span class=\"k\">print</span><span class=\"p\">(</span><span class=\"n\">f</span><span class=\"s1\">&#39;Failed to get embedding for {txt}:</span><span class=\"se\">\\n</span><span class=\"s1\">{ex}&#39;</span><span class=\"p\">)</span>\n",
       "            <span class=\"k\">raise</span>\n",
       "\n",
       "    <span class=\"n\">text_features</span> <span class=\"o\">=</span> <span class=\"n\">text_features</span><span class=\"o\">.</span><span class=\"n\">reshape</span><span class=\"p\">(</span><span class=\"n\">input_length</span> <span class=\"o\">*</span> <span class=\"n\">embedding_dim</span><span class=\"p\">)</span>\n",
       "    <span class=\"k\">return</span> <span class=\"n\">text_features</span>\n",
       "</pre></div>\n"
      ],
      "text/plain": [
       "<IPython.core.display.HTML object>"
      ]
     },
     "metadata": {},
     "output_type": "display_data"
    }
   ],
   "source": [
    "from pre_processing.prepare_data import get_text_features\n",
    "code = get_highlighted_function_code(get_text_features,remove_comments=True)\n",
    "IPython.display.display(code)"
   ]
  },
  {
   "cell_type": "markdown",
   "metadata": {},
   "source": [
    "#### pre_process_raw_data for the data pre processing:"
   ]
  },
  {
   "cell_type": "code",
   "execution_count": 3,
   "metadata": {},
   "outputs": [
    {
     "data": {
      "text/html": [
       "<style type=\"text/css\">.highlight .hll { background-color: #ffffcc }\n",
       ".highlight  { background: #f8f8f8; }\n",
       ".highlight .c { color: #408080; font-style: italic } /* Comment */\n",
       ".highlight .err { border: 1px solid #FF0000 } /* Error */\n",
       ".highlight .k { color: #008000; font-weight: bold } /* Keyword */\n",
       ".highlight .o { color: #666666 } /* Operator */\n",
       ".highlight .ch { color: #408080; font-style: italic } /* Comment.Hashbang */\n",
       ".highlight .cm { color: #408080; font-style: italic } /* Comment.Multiline */\n",
       ".highlight .cp { color: #BC7A00 } /* Comment.Preproc */\n",
       ".highlight .cpf { color: #408080; font-style: italic } /* Comment.PreprocFile */\n",
       ".highlight .c1 { color: #408080; font-style: italic } /* Comment.Single */\n",
       ".highlight .cs { color: #408080; font-style: italic } /* Comment.Special */\n",
       ".highlight .gd { color: #A00000 } /* Generic.Deleted */\n",
       ".highlight .ge { font-style: italic } /* Generic.Emph */\n",
       ".highlight .gr { color: #FF0000 } /* Generic.Error */\n",
       ".highlight .gh { color: #000080; font-weight: bold } /* Generic.Heading */\n",
       ".highlight .gi { color: #00A000 } /* Generic.Inserted */\n",
       ".highlight .go { color: #888888 } /* Generic.Output */\n",
       ".highlight .gp { color: #000080; font-weight: bold } /* Generic.Prompt */\n",
       ".highlight .gs { font-weight: bold } /* Generic.Strong */\n",
       ".highlight .gu { color: #800080; font-weight: bold } /* Generic.Subheading */\n",
       ".highlight .gt { color: #0044DD } /* Generic.Traceback */\n",
       ".highlight .kc { color: #008000; font-weight: bold } /* Keyword.Constant */\n",
       ".highlight .kd { color: #008000; font-weight: bold } /* Keyword.Declaration */\n",
       ".highlight .kn { color: #008000; font-weight: bold } /* Keyword.Namespace */\n",
       ".highlight .kp { color: #008000 } /* Keyword.Pseudo */\n",
       ".highlight .kr { color: #008000; font-weight: bold } /* Keyword.Reserved */\n",
       ".highlight .kt { color: #B00040 } /* Keyword.Type */\n",
       ".highlight .m { color: #666666 } /* Literal.Number */\n",
       ".highlight .s { color: #BA2121 } /* Literal.String */\n",
       ".highlight .na { color: #7D9029 } /* Name.Attribute */\n",
       ".highlight .nb { color: #008000 } /* Name.Builtin */\n",
       ".highlight .nc { color: #0000FF; font-weight: bold } /* Name.Class */\n",
       ".highlight .no { color: #880000 } /* Name.Constant */\n",
       ".highlight .nd { color: #AA22FF } /* Name.Decorator */\n",
       ".highlight .ni { color: #999999; font-weight: bold } /* Name.Entity */\n",
       ".highlight .ne { color: #D2413A; font-weight: bold } /* Name.Exception */\n",
       ".highlight .nf { color: #0000FF } /* Name.Function */\n",
       ".highlight .nl { color: #A0A000 } /* Name.Label */\n",
       ".highlight .nn { color: #0000FF; font-weight: bold } /* Name.Namespace */\n",
       ".highlight .nt { color: #008000; font-weight: bold } /* Name.Tag */\n",
       ".highlight .nv { color: #19177C } /* Name.Variable */\n",
       ".highlight .ow { color: #AA22FF; font-weight: bold } /* Operator.Word */\n",
       ".highlight .w { color: #bbbbbb } /* Text.Whitespace */\n",
       ".highlight .mb { color: #666666 } /* Literal.Number.Bin */\n",
       ".highlight .mf { color: #666666 } /* Literal.Number.Float */\n",
       ".highlight .mh { color: #666666 } /* Literal.Number.Hex */\n",
       ".highlight .mi { color: #666666 } /* Literal.Number.Integer */\n",
       ".highlight .mo { color: #666666 } /* Literal.Number.Oct */\n",
       ".highlight .sa { color: #BA2121 } /* Literal.String.Affix */\n",
       ".highlight .sb { color: #BA2121 } /* Literal.String.Backtick */\n",
       ".highlight .sc { color: #BA2121 } /* Literal.String.Char */\n",
       ".highlight .dl { color: #BA2121 } /* Literal.String.Delimiter */\n",
       ".highlight .sd { color: #BA2121; font-style: italic } /* Literal.String.Doc */\n",
       ".highlight .s2 { color: #BA2121 } /* Literal.String.Double */\n",
       ".highlight .se { color: #BB6622; font-weight: bold } /* Literal.String.Escape */\n",
       ".highlight .sh { color: #BA2121 } /* Literal.String.Heredoc */\n",
       ".highlight .si { color: #BB6688; font-weight: bold } /* Literal.String.Interpol */\n",
       ".highlight .sx { color: #008000 } /* Literal.String.Other */\n",
       ".highlight .sr { color: #BB6688 } /* Literal.String.Regex */\n",
       ".highlight .s1 { color: #BA2121 } /* Literal.String.Single */\n",
       ".highlight .ss { color: #19177C } /* Literal.String.Symbol */\n",
       ".highlight .bp { color: #008000 } /* Name.Builtin.Pseudo */\n",
       ".highlight .fm { color: #0000FF } /* Name.Function.Magic */\n",
       ".highlight .vc { color: #19177C } /* Name.Variable.Class */\n",
       ".highlight .vg { color: #19177C } /* Name.Variable.Global */\n",
       ".highlight .vi { color: #19177C } /* Name.Variable.Instance */\n",
       ".highlight .vm { color: #19177C } /* Name.Variable.Magic */\n",
       ".highlight .il { color: #666666 } /* Literal.Number.Integer.Long */</style><div class=\"highlight\"><pre><span></span><span class=\"k\">def</span> <span class=\"nf\">pre_process_raw_data</span><span class=\"p\">(</span><span class=\"n\">df</span><span class=\"p\">):</span>\n",
       "    <span class=\"k\">with</span> <span class=\"n\">VerboseTimer</span><span class=\"p\">(</span><span class=\"s2\">&quot;Pre processing&quot;</span><span class=\"p\">):</span>\n",
       "        <span class=\"n\">df</span><span class=\"p\">[</span><span class=\"s1\">&#39;image_name&#39;</span><span class=\"p\">]</span> <span class=\"o\">=</span> <span class=\"n\">df</span><span class=\"p\">[</span><span class=\"s1\">&#39;image_name&#39;</span><span class=\"p\">]</span><span class=\"o\">.</span><span class=\"n\">apply</span><span class=\"p\">(</span><span class=\"k\">lambda</span> <span class=\"n\">q</span><span class=\"p\">:</span> <span class=\"n\">q</span> <span class=\"k\">if</span> <span class=\"n\">q</span><span class=\"o\">.</span><span class=\"n\">lower</span><span class=\"p\">()</span><span class=\"o\">.</span><span class=\"n\">endswith</span><span class=\"p\">(</span><span class=\"s1\">&#39;.jpg&#39;</span><span class=\"p\">)</span> <span class=\"k\">else</span> <span class=\"n\">q</span> <span class=\"o\">+</span> <span class=\"s1\">&#39;.jpg&#39;</span><span class=\"p\">)</span>\n",
       "        <span class=\"n\">paths</span> <span class=\"o\">=</span> <span class=\"n\">df</span><span class=\"p\">[</span><span class=\"s1\">&#39;path&#39;</span><span class=\"p\">]</span>\n",
       "\n",
       "        <span class=\"n\">dirs</span> <span class=\"o\">=</span> <span class=\"p\">{</span><span class=\"n\">os</span><span class=\"o\">.</span><span class=\"n\">path</span><span class=\"o\">.</span><span class=\"n\">split</span><span class=\"p\">(</span><span class=\"n\">c</span><span class=\"p\">)[</span><span class=\"mi\">0</span><span class=\"p\">]</span> <span class=\"k\">for</span> <span class=\"n\">c</span> <span class=\"ow\">in</span> <span class=\"n\">paths</span><span class=\"p\">}</span>\n",
       "        <span class=\"n\">files_by_folder</span> <span class=\"o\">=</span> <span class=\"p\">{</span><span class=\"n\">folder</span><span class=\"p\">:</span> <span class=\"n\">os</span><span class=\"o\">.</span><span class=\"n\">listdir</span><span class=\"p\">(</span><span class=\"n\">folder</span><span class=\"p\">)</span> <span class=\"k\">for</span> <span class=\"n\">folder</span> <span class=\"ow\">in</span> <span class=\"n\">dirs</span><span class=\"p\">}</span>\n",
       "        <span class=\"n\">existing_files</span> <span class=\"o\">=</span> <span class=\"p\">[</span><span class=\"n\">os</span><span class=\"o\">.</span><span class=\"n\">path</span><span class=\"o\">.</span><span class=\"n\">normpath</span><span class=\"p\">(</span><span class=\"n\">os</span><span class=\"o\">.</span><span class=\"n\">path</span><span class=\"o\">.</span><span class=\"n\">join</span><span class=\"p\">(</span><span class=\"n\">folder</span><span class=\"p\">,</span> <span class=\"n\">fn</span><span class=\"p\">))</span>\n",
       "                          <span class=\"k\">for</span> <span class=\"n\">folder</span><span class=\"p\">,</span> <span class=\"n\">fn_arr</span> <span class=\"ow\">in</span> <span class=\"n\">files_by_folder</span><span class=\"o\">.</span><span class=\"n\">items</span><span class=\"p\">()</span> <span class=\"k\">for</span> <span class=\"n\">fn</span> <span class=\"ow\">in</span> <span class=\"n\">fn_arr</span><span class=\"p\">]</span>\n",
       "        <span class=\"n\">df</span><span class=\"o\">.</span><span class=\"n\">path</span> <span class=\"o\">=</span> <span class=\"n\">df</span><span class=\"o\">.</span><span class=\"n\">path</span><span class=\"o\">.</span><span class=\"n\">apply</span><span class=\"p\">(</span><span class=\"k\">lambda</span> <span class=\"n\">path</span><span class=\"p\">:</span> <span class=\"n\">os</span><span class=\"o\">.</span><span class=\"n\">path</span><span class=\"o\">.</span><span class=\"n\">normpath</span><span class=\"p\">(</span><span class=\"n\">path</span><span class=\"p\">))</span>\n",
       "\n",
       "        <span class=\"n\">existing_idxs</span> <span class=\"o\">=</span> <span class=\"n\">df</span><span class=\"p\">[</span><span class=\"s1\">&#39;path&#39;</span><span class=\"p\">]</span><span class=\"o\">.</span><span class=\"n\">isin</span><span class=\"p\">(</span><span class=\"n\">existing_files</span><span class=\"p\">)</span>\n",
       "        <span class=\"k\">assert</span> <span class=\"n\">existing_idxs</span><span class=\"o\">.</span><span class=\"n\">all</span><span class=\"p\">()</span>\n",
       "\n",
       "        <span class=\"n\">df</span> <span class=\"o\">=</span> <span class=\"n\">df</span><span class=\"o\">.</span><span class=\"n\">reset_index</span><span class=\"p\">(</span><span class=\"n\">drop</span><span class=\"o\">=</span><span class=\"bp\">True</span><span class=\"p\">)</span>\n",
       "\n",
       "        <span class=\"k\">def</span> <span class=\"nf\">process_text</span><span class=\"p\">(</span><span class=\"n\">txt</span><span class=\"p\">):</span>\n",
       "            <span class=\"n\">exclude</span> <span class=\"o\">=</span> <span class=\"nb\">set</span><span class=\"p\">(</span><span class=\"n\">string</span><span class=\"o\">.</span><span class=\"n\">punctuation</span><span class=\"p\">)</span>\n",
       "            <span class=\"n\">no_punctuation</span> <span class=\"o\">=</span> <span class=\"s1\">&#39;&#39;</span><span class=\"o\">.</span><span class=\"n\">join</span><span class=\"p\">(</span><span class=\"n\">ch</span><span class=\"o\">.</span><span class=\"n\">lower</span><span class=\"p\">()</span> <span class=\"k\">if</span> <span class=\"n\">ch</span> <span class=\"ow\">not</span> <span class=\"ow\">in</span> <span class=\"n\">exclude</span> <span class=\"k\">else</span> <span class=\"s1\">&#39; &#39;</span> <span class=\"k\">for</span> <span class=\"n\">ch</span> <span class=\"ow\">in</span> <span class=\"n\">txt</span><span class=\"p\">)</span>\n",
       "            <span class=\"n\">no_single_chars</span> <span class=\"o\">=</span> <span class=\"s1\">&#39; &#39;</span><span class=\"o\">.</span><span class=\"n\">join</span><span class=\"p\">(</span><span class=\"n\">w</span> <span class=\"k\">for</span> <span class=\"n\">w</span> <span class=\"ow\">in</span> <span class=\"n\">no_punctuation</span><span class=\"o\">.</span><span class=\"n\">split</span><span class=\"p\">()</span> <span class=\"k\">if</span> <span class=\"nb\">len</span><span class=\"p\">(</span><span class=\"n\">w</span><span class=\"p\">)</span> <span class=\"o\">&gt;</span> <span class=\"mi\">1</span><span class=\"p\">)</span>\n",
       "            <span class=\"n\">no_multi_space</span> <span class=\"o\">=</span> <span class=\"s1\">&#39; &#39;</span><span class=\"o\">.</span><span class=\"n\">join</span><span class=\"p\">(</span><span class=\"n\">no_single_chars</span><span class=\"o\">.</span><span class=\"n\">split</span><span class=\"p\">())</span>\n",
       "            <span class=\"k\">return</span> <span class=\"n\">no_multi_space</span>\n",
       "\n",
       "        <span class=\"n\">logger</span><span class=\"o\">.</span><span class=\"n\">info</span><span class=\"p\">(</span><span class=\"s1\">&#39;Answer: removing stop words and tokenizing&#39;</span><span class=\"p\">)</span>\n",
       "\n",
       "        <span class=\"k\">for</span> <span class=\"n\">col</span> <span class=\"ow\">in</span> <span class=\"p\">[</span><span class=\"s1\">&#39;processed_answer&#39;</span><span class=\"p\">,</span> <span class=\"s1\">&#39;answer&#39;</span><span class=\"p\">]:</span>\n",
       "            <span class=\"k\">if</span> <span class=\"n\">col</span> <span class=\"ow\">not</span> <span class=\"ow\">in</span> <span class=\"n\">df</span><span class=\"o\">.</span><span class=\"n\">columns</span><span class=\"p\">:</span>  <span class=\"c1\"># e.g. in test set...</span>\n",
       "                <span class=\"n\">df</span><span class=\"p\">[</span><span class=\"n\">col</span><span class=\"p\">]</span> <span class=\"o\">=</span> <span class=\"s1\">&#39;&#39;</span>\n",
       "\n",
       "        <span class=\"n\">df</span><span class=\"o\">.</span><span class=\"n\">answer</span><span class=\"o\">.</span><span class=\"n\">fillna</span><span class=\"p\">(</span><span class=\"s1\">&#39;&#39;</span><span class=\"p\">,</span> <span class=\"n\">inplace</span><span class=\"o\">=</span><span class=\"bp\">True</span><span class=\"p\">)</span>\n",
       "        <span class=\"n\">df</span><span class=\"o\">.</span><span class=\"n\">question</span><span class=\"o\">.</span><span class=\"n\">fillna</span><span class=\"p\">(</span><span class=\"s1\">&#39;&#39;</span><span class=\"p\">,</span> <span class=\"n\">inplace</span><span class=\"o\">=</span><span class=\"bp\">True</span><span class=\"p\">)</span>\n",
       "\n",
       "        <span class=\"k\">with</span> <span class=\"n\">VerboseTimer</span><span class=\"p\">(</span><span class=\"s2\">&quot;Answer Tokenizing&quot;</span><span class=\"p\">):</span>\n",
       "            <span class=\"n\">df</span><span class=\"p\">[</span><span class=\"s1\">&#39;processed_answer&#39;</span><span class=\"p\">]</span> <span class=\"o\">=</span> <span class=\"n\">df</span><span class=\"p\">[</span><span class=\"s1\">&#39;answer&#39;</span><span class=\"p\">]</span><span class=\"o\">.</span><span class=\"n\">apply</span><span class=\"p\">(</span><span class=\"n\">process_text</span><span class=\"p\">)</span>\n",
       "\n",
       "        <span class=\"n\">logger</span><span class=\"o\">.</span><span class=\"n\">info</span><span class=\"p\">(</span><span class=\"s1\">&#39;Question: removing stop words and tokenizing&#39;</span><span class=\"p\">)</span>\n",
       "        <span class=\"k\">with</span> <span class=\"n\">VerboseTimer</span><span class=\"p\">(</span><span class=\"s2\">&quot;Question Tokenizing&quot;</span><span class=\"p\">):</span>\n",
       "            <span class=\"n\">df</span><span class=\"p\">[</span><span class=\"s1\">&#39;processed_question&#39;</span><span class=\"p\">]</span> <span class=\"o\">=</span> <span class=\"n\">df</span><span class=\"p\">[</span><span class=\"s1\">&#39;question&#39;</span><span class=\"p\">]</span><span class=\"o\">.</span><span class=\"n\">apply</span><span class=\"p\">(</span><span class=\"n\">process_text</span><span class=\"p\">)</span>\n",
       "\n",
       "        <span class=\"n\">ddata</span> <span class=\"o\">=</span> <span class=\"n\">dd</span><span class=\"o\">.</span><span class=\"n\">from_pandas</span><span class=\"p\">(</span><span class=\"n\">df</span><span class=\"p\">,</span> <span class=\"n\">npartitions</span><span class=\"o\">=</span><span class=\"mi\">8</span><span class=\"p\">)</span>\n",
       "\n",
       "        <span class=\"k\">def</span> <span class=\"nf\">get_string_features</span><span class=\"p\">(</span><span class=\"n\">s</span><span class=\"p\">,</span> <span class=\"o\">*</span><span class=\"n\">a</span><span class=\"p\">,</span> <span class=\"o\">**</span><span class=\"n\">kw</span><span class=\"p\">):</span>\n",
       "            <span class=\"n\">features</span> <span class=\"o\">=</span> <span class=\"n\">get_text_features</span><span class=\"p\">(</span><span class=\"n\">s</span><span class=\"p\">)</span>\n",
       "            <span class=\"k\">return</span> <span class=\"n\">features</span>\n",
       "\n",
       "        <span class=\"n\">paralelized_get_features</span> <span class=\"o\">=</span> <span class=\"n\">partial</span><span class=\"p\">(</span><span class=\"n\">_apply_heavy_function</span><span class=\"p\">,</span> <span class=\"n\">dask_df</span><span class=\"o\">=</span><span class=\"n\">ddata</span><span class=\"p\">,</span> <span class=\"n\">apply_func</span><span class=\"o\">=</span><span class=\"n\">get_string_features</span><span class=\"p\">)</span>\n",
       "\n",
       "        <span class=\"n\">logger</span><span class=\"o\">.</span><span class=\"n\">info</span><span class=\"p\">(</span><span class=\"s1\">&#39;Getting answers embedding&#39;</span><span class=\"p\">)</span>\n",
       "        <span class=\"k\">with</span> <span class=\"n\">VerboseTimer</span><span class=\"p\">(</span><span class=\"s2\">&quot;Answer Embedding&quot;</span><span class=\"p\">):</span>\n",
       "            <span class=\"n\">df</span><span class=\"p\">[</span><span class=\"s1\">&#39;answer_embedding&#39;</span><span class=\"p\">]</span> <span class=\"o\">=</span> <span class=\"n\">paralelized_get_features</span><span class=\"p\">(</span><span class=\"n\">column</span><span class=\"o\">=</span><span class=\"s1\">&#39;processed_answer&#39;</span><span class=\"p\">)</span>\n",
       "\n",
       "        <span class=\"n\">logger</span><span class=\"o\">.</span><span class=\"n\">info</span><span class=\"p\">(</span><span class=\"s1\">&#39;Getting questions embedding&#39;</span><span class=\"p\">)</span>\n",
       "        <span class=\"k\">with</span> <span class=\"n\">VerboseTimer</span><span class=\"p\">(</span><span class=\"s2\">&quot;Question Embedding&quot;</span><span class=\"p\">):</span>\n",
       "            <span class=\"n\">df</span><span class=\"p\">[</span><span class=\"s1\">&#39;question_embedding&#39;</span><span class=\"p\">]</span> <span class=\"o\">=</span> <span class=\"n\">paralelized_get_features</span><span class=\"p\">(</span><span class=\"n\">column</span><span class=\"o\">=</span><span class=\"s1\">&#39;processed_question&#39;</span><span class=\"p\">)</span>\n",
       "\n",
       "    <span class=\"n\">__add_category_prediction</span><span class=\"p\">(</span><span class=\"n\">df</span><span class=\"p\">)</span>\n",
       "\n",
       "    <span class=\"n\">__add_augmented_categories</span><span class=\"p\">(</span><span class=\"n\">df</span><span class=\"p\">)</span>\n",
       "\n",
       "    <span class=\"n\">logger</span><span class=\"o\">.</span><span class=\"n\">debug</span><span class=\"p\">(</span><span class=\"s1\">&#39;Done&#39;</span><span class=\"p\">)</span>\n",
       "    <span class=\"k\">return</span> <span class=\"n\">df</span>\n",
       "</pre></div>\n"
      ],
      "text/plain": [
       "<IPython.core.display.HTML object>"
      ]
     },
     "metadata": {},
     "output_type": "display_data"
    }
   ],
   "source": [
    "from pre_processing.prepare_data import  pre_process_raw_data\n",
    "code = get_highlighted_function_code(pre_process_raw_data,remove_comments=True)\n",
    "IPython.display.display(code)"
   ]
  },
  {
   "cell_type": "markdown",
   "metadata": {},
   "source": [
    "#### Cleaning the data:"
   ]
  },
  {
   "cell_type": "code",
   "execution_count": 4,
   "metadata": {},
   "outputs": [],
   "source": [
    "# from pre_processing.data_cleaning import clean_data\n",
    "# code = get_highlighted_function_code(clean_data,remove_comments=True)\n",
    "# IPython.display.display(code)"
   ]
  },
  {
   "cell_type": "markdown",
   "metadata": {},
   "source": [
    "#### Enriching the data"
   ]
  },
  {
   "cell_type": "code",
   "execution_count": 5,
   "metadata": {},
   "outputs": [],
   "source": [
    "# from pre_processing.data_enrichment import enrich_data\n",
    "# code = get_highlighted_function_code(enrich_data,remove_comments=True)\n",
    "# IPython.display.display(code)"
   ]
  },
  {
   "cell_type": "markdown",
   "metadata": {},
   "source": [
    "---\n",
    "## The code:"
   ]
  },
  {
   "cell_type": "code",
   "execution_count": 6,
   "metadata": {},
   "outputs": [],
   "source": [
    "# %%capture\n",
    "from common.settings import get_nlp, data_access\n",
    "from common.functions import get_image,  get_size\n",
    "from pre_processing.prepare_data import get_text_features, pre_process_raw_data\n",
    "from pre_processing.data_enrichment import enrich_data\n",
    "from pre_processing.data_cleaning import clean_data\n",
    "from common.utils import VerboseTimer\n",
    "from collections import Counter\n",
    "import os\n",
    "from pandas import HDFStore\n",
    "import pyarrow as pa\n",
    "import pyarrow.parquet as pq\n",
    "import logging\n",
    "from pathlib import Path"
   ]
  },
  {
   "cell_type": "code",
   "execution_count": 7,
   "metadata": {},
   "outputs": [],
   "source": [
    "logger = logging.getLogger(__name__)"
   ]
  },
  {
   "cell_type": "markdown",
   "metadata": {},
   "source": [
    "##### Getting the nlp engine\n",
    "(doing it once - it is a singleton)"
   ]
  },
  {
   "cell_type": "code",
   "execution_count": 8,
   "metadata": {},
   "outputs": [
    {
     "name": "stdout",
     "output_type": "stream",
     "text": [
      "[2021-09-20 13:56:59][common.settings][DEBUG] using embedding vector: en_core_web_lg\n",
      "[2021-09-20 13:57:01][common.settings][DEBUG] Got NLP engine (en_core_web_lg)\n"
     ]
    }
   ],
   "source": [
    "nlp = get_nlp()"
   ]
  },
  {
   "cell_type": "markdown",
   "metadata": {},
   "source": [
    "Getting the raw input"
   ]
  },
  {
   "cell_type": "code",
   "execution_count": 9,
   "metadata": {},
   "outputs": [
    {
     "name": "stdout",
     "output_type": "stream",
     "text": [
      "[2021-09-20 13:57:01][data_access.api][DEBUG] Loading data from: C:\\Users\\avitu\\Documents\\GitHub\\VQA-MED\\VQA-MED\\VQA.Python\\data\\raw_data.h5\n",
      "[2021-09-20 13:57:01][common.utils][DEBUG] Starting 'Loading raw data'\n",
      "[2021-09-20 13:57:01][common.utils][DEBUG] Loading raw data: 0:00:00.140951\n"
     ]
    }
   ],
   "source": [
    "image_name_question = data_access.load_raw_input()"
   ]
  },
  {
   "cell_type": "code",
   "execution_count": 10,
   "metadata": {},
   "outputs": [
    {
     "data": {
      "text/html": [
       "<div>\n",
       "<style scoped>\n",
       "    .dataframe tbody tr th:only-of-type {\n",
       "        vertical-align: middle;\n",
       "    }\n",
       "\n",
       "    .dataframe tbody tr th {\n",
       "        vertical-align: top;\n",
       "    }\n",
       "\n",
       "    .dataframe thead th {\n",
       "        text-align: right;\n",
       "    }\n",
       "</style>\n",
       "<table border=\"1\" class=\"dataframe\">\n",
       "  <thead>\n",
       "    <tr style=\"text-align: right;\">\n",
       "      <th></th>\n",
       "      <th>image_name</th>\n",
       "      <th>question</th>\n",
       "      <th>answer</th>\n",
       "      <th>group</th>\n",
       "      <th>path</th>\n",
       "    </tr>\n",
       "  </thead>\n",
       "  <tbody>\n",
       "    <tr>\n",
       "      <th>0</th>\n",
       "      <td>synpic41148</td>\n",
       "      <td>what kind of image is this?</td>\n",
       "      <td>cta - ct angiography</td>\n",
       "      <td>train</td>\n",
       "      <td>C:\\Users\\Public\\Documents\\Data\\2019\\train\\Trai...</td>\n",
       "    </tr>\n",
       "    <tr>\n",
       "      <th>1</th>\n",
       "      <td>synpic43984</td>\n",
       "      <td>is this a t1 weighted image?</td>\n",
       "      <td>no</td>\n",
       "      <td>train</td>\n",
       "      <td>C:\\Users\\Public\\Documents\\Data\\2019\\train\\Trai...</td>\n",
       "    </tr>\n",
       "    <tr>\n",
       "      <th>2</th>\n",
       "      <td>synpic38930</td>\n",
       "      <td>what type of imaging modality is used to acqui...</td>\n",
       "      <td>us - ultrasound</td>\n",
       "      <td>train</td>\n",
       "      <td>C:\\Users\\Public\\Documents\\Data\\2019\\train\\Trai...</td>\n",
       "    </tr>\n",
       "    <tr>\n",
       "      <th>3</th>\n",
       "      <td>synpic52143</td>\n",
       "      <td>is this a noncontrast mri?</td>\n",
       "      <td>no</td>\n",
       "      <td>train</td>\n",
       "      <td>C:\\Users\\Public\\Documents\\Data\\2019\\train\\Trai...</td>\n",
       "    </tr>\n",
       "    <tr>\n",
       "      <th>4</th>\n",
       "      <td>synpic20934</td>\n",
       "      <td>what type of image modality is this?</td>\n",
       "      <td>xr - plain film</td>\n",
       "      <td>train</td>\n",
       "      <td>C:\\Users\\Public\\Documents\\Data\\2019\\train\\Trai...</td>\n",
       "    </tr>\n",
       "  </tbody>\n",
       "</table>\n",
       "</div>"
      ],
      "text/plain": [
       "    image_name                                           question  \\\n",
       "0  synpic41148                        what kind of image is this?   \n",
       "1  synpic43984                       is this a t1 weighted image?   \n",
       "2  synpic38930  what type of imaging modality is used to acqui...   \n",
       "3  synpic52143                         is this a noncontrast mri?   \n",
       "4  synpic20934               what type of image modality is this?   \n",
       "\n",
       "                 answer  group  \\\n",
       "0  cta - ct angiography  train   \n",
       "1                    no  train   \n",
       "2       us - ultrasound  train   \n",
       "3                    no  train   \n",
       "4       xr - plain film  train   \n",
       "\n",
       "                                                path  \n",
       "0  C:\\Users\\Public\\Documents\\Data\\2019\\train\\Trai...  \n",
       "1  C:\\Users\\Public\\Documents\\Data\\2019\\train\\Trai...  \n",
       "2  C:\\Users\\Public\\Documents\\Data\\2019\\train\\Trai...  \n",
       "3  C:\\Users\\Public\\Documents\\Data\\2019\\train\\Trai...  \n",
       "4  C:\\Users\\Public\\Documents\\Data\\2019\\train\\Trai...  "
      ]
     },
     "execution_count": 10,
     "metadata": {},
     "output_type": "execute_result"
    }
   ],
   "source": [
    "image_name_question.head()"
   ]
  },
  {
   "cell_type": "markdown",
   "metadata": {},
   "source": [
    "## Clean and enrich the data"
   ]
  },
  {
   "cell_type": "code",
   "execution_count": 11,
   "metadata": {},
   "outputs": [
    {
     "name": "stderr",
     "output_type": "stream",
     "text": [
      "Looking for word: arch: 100%|██████████| 80/80 [00:05<00:00, 13.95it/s]             \n"
     ]
    }
   ],
   "source": [
    "orig_image_name_question = image_name_question.copy()\n",
    "image_name_question = clean_data(image_name_question)\n",
    "image_name_question = enrich_data(image_name_question)"
   ]
  },
  {
   "cell_type": "code",
   "execution_count": 12,
   "metadata": {},
   "outputs": [
    {
     "data": {
      "text/html": [
       "<div>\n",
       "<style scoped>\n",
       "    .dataframe tbody tr th:only-of-type {\n",
       "        vertical-align: middle;\n",
       "    }\n",
       "\n",
       "    .dataframe tbody tr th {\n",
       "        vertical-align: top;\n",
       "    }\n",
       "\n",
       "    .dataframe thead tr th {\n",
       "        text-align: left;\n",
       "    }\n",
       "\n",
       "    .dataframe thead tr:last-of-type th {\n",
       "        text-align: right;\n",
       "    }\n",
       "</style>\n",
       "<table border=\"1\" class=\"dataframe\">\n",
       "  <thead>\n",
       "    <tr>\n",
       "      <th></th>\n",
       "      <th colspan=\"4\" halign=\"left\">answer</th>\n",
       "      <th colspan=\"4\" halign=\"left\">diagnosis</th>\n",
       "      <th colspan=\"2\" halign=\"left\">image_name</th>\n",
       "      <th>...</th>\n",
       "      <th colspan=\"2\" halign=\"left\">processed_question</th>\n",
       "      <th colspan=\"4\" halign=\"left\">question</th>\n",
       "      <th colspan=\"4\" halign=\"left\">question_category</th>\n",
       "    </tr>\n",
       "    <tr>\n",
       "      <th></th>\n",
       "      <th>count</th>\n",
       "      <th>unique</th>\n",
       "      <th>top</th>\n",
       "      <th>freq</th>\n",
       "      <th>count</th>\n",
       "      <th>unique</th>\n",
       "      <th>top</th>\n",
       "      <th>freq</th>\n",
       "      <th>count</th>\n",
       "      <th>unique</th>\n",
       "      <th>...</th>\n",
       "      <th>top</th>\n",
       "      <th>freq</th>\n",
       "      <th>count</th>\n",
       "      <th>unique</th>\n",
       "      <th>top</th>\n",
       "      <th>freq</th>\n",
       "      <th>count</th>\n",
       "      <th>unique</th>\n",
       "      <th>top</th>\n",
       "      <th>freq</th>\n",
       "    </tr>\n",
       "    <tr>\n",
       "      <th>group</th>\n",
       "      <th></th>\n",
       "      <th></th>\n",
       "      <th></th>\n",
       "      <th></th>\n",
       "      <th></th>\n",
       "      <th></th>\n",
       "      <th></th>\n",
       "      <th></th>\n",
       "      <th></th>\n",
       "      <th></th>\n",
       "      <th></th>\n",
       "      <th></th>\n",
       "      <th></th>\n",
       "      <th></th>\n",
       "      <th></th>\n",
       "      <th></th>\n",
       "      <th></th>\n",
       "      <th></th>\n",
       "      <th></th>\n",
       "      <th></th>\n",
       "      <th></th>\n",
       "    </tr>\n",
       "  </thead>\n",
       "  <tbody>\n",
       "    <tr>\n",
       "      <th>test</th>\n",
       "      <td>0</td>\n",
       "      <td>0</td>\n",
       "      <td>NaN</td>\n",
       "      <td>NaN</td>\n",
       "      <td>500</td>\n",
       "      <td>1</td>\n",
       "      <td></td>\n",
       "      <td>500</td>\n",
       "      <td>500</td>\n",
       "      <td>500</td>\n",
       "      <td>...</td>\n",
       "      <td>what is the primary abnormality in this image?</td>\n",
       "      <td>24</td>\n",
       "      <td>500</td>\n",
       "      <td>138</td>\n",
       "      <td>what is the primary abnormality in this image?</td>\n",
       "      <td>24</td>\n",
       "      <td>0</td>\n",
       "      <td>0</td>\n",
       "      <td>NaN</td>\n",
       "      <td>NaN</td>\n",
       "    </tr>\n",
       "    <tr>\n",
       "      <th>train</th>\n",
       "      <td>12792</td>\n",
       "      <td>1552</td>\n",
       "      <td>axial</td>\n",
       "      <td>1558</td>\n",
       "      <td>12792</td>\n",
       "      <td>274</td>\n",
       "      <td></td>\n",
       "      <td>10569</td>\n",
       "      <td>12792</td>\n",
       "      <td>3200</td>\n",
       "      <td>...</td>\n",
       "      <td>what abnormality is seen in the image?</td>\n",
       "      <td>776</td>\n",
       "      <td>12792</td>\n",
       "      <td>247</td>\n",
       "      <td>what abnormality is seen in the image?</td>\n",
       "      <td>776</td>\n",
       "      <td>12792</td>\n",
       "      <td>4</td>\n",
       "      <td>Modality</td>\n",
       "      <td>3200</td>\n",
       "    </tr>\n",
       "    <tr>\n",
       "      <th>validation</th>\n",
       "      <td>2000</td>\n",
       "      <td>470</td>\n",
       "      <td>axial</td>\n",
       "      <td>213</td>\n",
       "      <td>2000</td>\n",
       "      <td>133</td>\n",
       "      <td></td>\n",
       "      <td>1669</td>\n",
       "      <td>2000</td>\n",
       "      <td>500</td>\n",
       "      <td>...</td>\n",
       "      <td>what abnormality is seen in the image?</td>\n",
       "      <td>133</td>\n",
       "      <td>2000</td>\n",
       "      <td>186</td>\n",
       "      <td>what abnormality is seen in the image?</td>\n",
       "      <td>133</td>\n",
       "      <td>2000</td>\n",
       "      <td>4</td>\n",
       "      <td>Modality</td>\n",
       "      <td>500</td>\n",
       "    </tr>\n",
       "  </tbody>\n",
       "</table>\n",
       "<p>3 rows × 32 columns</p>\n",
       "</div>"
      ],
      "text/plain": [
       "           answer                     diagnosis                   image_name  \\\n",
       "            count unique    top  freq     count unique top   freq      count   \n",
       "group                                                                          \n",
       "test            0      0    NaN   NaN       500      1        500        500   \n",
       "train       12792   1552  axial  1558     12792    274      10569      12792   \n",
       "validation   2000    470  axial   213      2000    133       1669       2000   \n",
       "\n",
       "                   ...                               processed_question       \\\n",
       "           unique  ...                                              top freq   \n",
       "group              ...                                                         \n",
       "test          500  ...   what is the primary abnormality in this image?   24   \n",
       "train        3200  ...           what abnormality is seen in the image?  776   \n",
       "validation    500  ...           what abnormality is seen in the image?  133   \n",
       "\n",
       "           question                                                         \\\n",
       "              count unique                                             top   \n",
       "group                                                                        \n",
       "test            500    138  what is the primary abnormality in this image?   \n",
       "train         12792    247          what abnormality is seen in the image?   \n",
       "validation     2000    186          what abnormality is seen in the image?   \n",
       "\n",
       "                question_category                         \n",
       "           freq             count unique       top  freq  \n",
       "group                                                     \n",
       "test         24                 0      0       NaN   NaN  \n",
       "train       776             12792      4  Modality  3200  \n",
       "validation  133              2000      4  Modality   500  \n",
       "\n",
       "[3 rows x 32 columns]"
      ]
     },
     "execution_count": 12,
     "metadata": {},
     "output_type": "execute_result"
    }
   ],
   "source": [
    "groups = image_name_question.groupby('group')\n",
    "groups.describe()"
   ]
  },
  {
   "cell_type": "code",
   "execution_count": 13,
   "metadata": {},
   "outputs": [
    {
     "data": {
      "text/html": [
       "<div>\n",
       "<style scoped>\n",
       "    .dataframe tbody tr th:only-of-type {\n",
       "        vertical-align: middle;\n",
       "    }\n",
       "\n",
       "    .dataframe tbody tr th {\n",
       "        vertical-align: top;\n",
       "    }\n",
       "\n",
       "    .dataframe thead th {\n",
       "        text-align: right;\n",
       "    }\n",
       "</style>\n",
       "<table border=\"1\" class=\"dataframe\">\n",
       "  <thead>\n",
       "    <tr style=\"text-align: right;\">\n",
       "      <th></th>\n",
       "      <th>image_name</th>\n",
       "      <th>question</th>\n",
       "      <th>answer</th>\n",
       "      <th>group</th>\n",
       "      <th>path</th>\n",
       "      <th>processed_question</th>\n",
       "      <th>processed_answer</th>\n",
       "      <th>diagnosis</th>\n",
       "      <th>question_category</th>\n",
       "    </tr>\n",
       "  </thead>\n",
       "  <tbody>\n",
       "    <tr>\n",
       "      <th>6341</th>\n",
       "      <td>synpic25652</td>\n",
       "      <td>what is the plane of this x-ray?</td>\n",
       "      <td>ap</td>\n",
       "      <td>train</td>\n",
       "      <td>C:\\Users\\Public\\Documents\\Data\\2019\\train\\Trai...</td>\n",
       "      <td>what is the plane of this x-ray?</td>\n",
       "      <td>ap</td>\n",
       "      <td></td>\n",
       "      <td>Plane</td>\n",
       "    </tr>\n",
       "    <tr>\n",
       "      <th>13592</th>\n",
       "      <td>synpic22196</td>\n",
       "      <td>which plane is this ct scan taken in?</td>\n",
       "      <td>axial</td>\n",
       "      <td>validation</td>\n",
       "      <td>C:\\Users\\Public\\Documents\\Data\\2019\\validation...</td>\n",
       "      <td>which plane is this ct taken in?</td>\n",
       "      <td>axial</td>\n",
       "      <td></td>\n",
       "      <td>Plane</td>\n",
       "    </tr>\n",
       "    <tr>\n",
       "      <th>6376</th>\n",
       "      <td>synpic41952</td>\n",
       "      <td>in what plane is this image taken?</td>\n",
       "      <td>coronal</td>\n",
       "      <td>train</td>\n",
       "      <td>C:\\Users\\Public\\Documents\\Data\\2019\\train\\Trai...</td>\n",
       "      <td>in what plane is this image taken?</td>\n",
       "      <td>coronal</td>\n",
       "      <td></td>\n",
       "      <td>Plane</td>\n",
       "    </tr>\n",
       "    <tr>\n",
       "      <th>6917</th>\n",
       "      <td>synpic16486</td>\n",
       "      <td>what organ system is shown in this x-ray?</td>\n",
       "      <td>musculoskeletal</td>\n",
       "      <td>train</td>\n",
       "      <td>C:\\Users\\Public\\Documents\\Data\\2019\\train\\Trai...</td>\n",
       "      <td>what organ system is shown in this x-ray?</td>\n",
       "      <td>musculoskeletal</td>\n",
       "      <td></td>\n",
       "      <td>Organ</td>\n",
       "    </tr>\n",
       "  </tbody>\n",
       "</table>\n",
       "</div>"
      ],
      "text/plain": [
       "        image_name                                   question  \\\n",
       "6341   synpic25652           what is the plane of this x-ray?   \n",
       "13592  synpic22196      which plane is this ct scan taken in?   \n",
       "6376   synpic41952         in what plane is this image taken?   \n",
       "6917   synpic16486  what organ system is shown in this x-ray?   \n",
       "\n",
       "                answer       group  \\\n",
       "6341                ap       train   \n",
       "13592            axial  validation   \n",
       "6376           coronal       train   \n",
       "6917   musculoskeletal       train   \n",
       "\n",
       "                                                    path  \\\n",
       "6341   C:\\Users\\Public\\Documents\\Data\\2019\\train\\Trai...   \n",
       "13592  C:\\Users\\Public\\Documents\\Data\\2019\\validation...   \n",
       "6376   C:\\Users\\Public\\Documents\\Data\\2019\\train\\Trai...   \n",
       "6917   C:\\Users\\Public\\Documents\\Data\\2019\\train\\Trai...   \n",
       "\n",
       "                              processed_question processed_answer diagnosis  \\\n",
       "6341            what is the plane of this x-ray?               ap             \n",
       "13592           which plane is this ct taken in?            axial             \n",
       "6376          in what plane is this image taken?          coronal             \n",
       "6917   what organ system is shown in this x-ray?  musculoskeletal             \n",
       "\n",
       "      question_category  \n",
       "6341              Plane  \n",
       "13592             Plane  \n",
       "6376              Plane  \n",
       "6917              Organ  "
      ]
     },
     "execution_count": 13,
     "metadata": {},
     "output_type": "execute_result"
    }
   ],
   "source": [
    "image_name_question.head()\n",
    "image_name_question.sample(n=4)"
   ]
  },
  {
   "cell_type": "markdown",
   "metadata": {},
   "source": [
    "## Do the actual pre processing"
   ]
  },
  {
   "cell_type": "markdown",
   "metadata": {},
   "source": [
    "#### If running in an exported notebook, use the following:\n",
    "(indent everything to be under the main guard) - for avoiding recursive spawning of processes"
   ]
  },
  {
   "cell_type": "code",
   "execution_count": 14,
   "metadata": {},
   "outputs": [
    {
     "name": "stdout",
     "output_type": "stream",
     "text": [
      "in main\n"
     ]
    }
   ],
   "source": [
    "from multiprocessing import freeze_support\n",
    "if __name__ == '__main__':\n",
    "    print('in main')\n",
    "    freeze_support()"
   ]
  },
  {
   "cell_type": "markdown",
   "metadata": {},
   "source": [
    "Note:  \n",
    "This might take a while..."
   ]
  },
  {
   "cell_type": "code",
   "execution_count": 15,
   "metadata": {},
   "outputs": [
    {
     "name": "stdout",
     "output_type": "stream",
     "text": [
      "[2021-09-20 13:57:23][__main__][DEBUG] ----===== Preproceccing train data =====----\n",
      "[2021-09-20 13:57:23][common.utils][DEBUG] Starting 'Pre processing'\n",
      "[2021-09-20 13:57:24][pre_processing.prepare_data][INFO] Answer: removing stop words and tokenizing\n",
      "[2021-09-20 13:57:24][common.utils][DEBUG] Starting 'Answer Tokenizing'\n",
      "[2021-09-20 13:57:24][common.utils][DEBUG] Answer Tokenizing: 0:00:00.193411\n",
      "[2021-09-20 13:57:24][pre_processing.prepare_data][INFO] Question: removing stop words and tokenizing\n",
      "[2021-09-20 13:57:24][common.utils][DEBUG] Starting 'Question Tokenizing'\n",
      "[2021-09-20 13:57:24][common.utils][DEBUG] Question Tokenizing: 0:00:00.379090\n",
      "[2021-09-20 13:57:24][pre_processing.prepare_data][INFO] Getting answers embedding\n",
      "[2021-09-20 13:57:24][common.utils][DEBUG] Starting 'Answer Embedding'\n",
      "[2021-09-20 13:59:07][common.utils][DEBUG] Answer Embedding: 0:01:42.733395\n",
      "[2021-09-20 13:59:07][pre_processing.prepare_data][INFO] Getting questions embedding\n",
      "[2021-09-20 13:59:07][common.utils][DEBUG] Starting 'Question Embedding'\n",
      "[2021-09-20 14:00:48][common.utils][DEBUG] Question Embedding: 0:01:40.769711\n",
      "[2021-09-20 14:00:48][common.utils][DEBUG] Pre processing: 0:03:24.789839\n",
      "[2021-09-20 14:00:51][common.utils][DEBUG] Starting 'Predicting question category'\n",
      "[2021-09-20 14:00:51][common.utils][DEBUG] Starting 'Predicting for 'Abnormality''\n",
      "[2021-09-20 14:00:51][common.utils][DEBUG] Predicting for 'Abnormality': 0:00:00.016329\n",
      "[2021-09-20 14:00:51][common.utils][DEBUG] Starting 'Predicting for 'Modality''\n",
      "[2021-09-20 14:00:51][common.utils][DEBUG] Predicting for 'Modality': 0:00:00.003913\n",
      "[2021-09-20 14:00:51][common.utils][DEBUG] Starting 'Predicting for 'Organ''\n",
      "[2021-09-20 14:00:51][common.utils][DEBUG] Predicting for 'Organ': 0:00:00.001466\n",
      "[2021-09-20 14:00:51][common.utils][DEBUG] Starting 'Predicting for 'Plane''\n",
      "[2021-09-20 14:00:51][common.utils][DEBUG] Predicting for 'Plane': 0:00:00.005033\n",
      "[2021-09-20 14:00:51][common.utils][DEBUG] Predicting question category: 0:00:00.110909\n"
     ]
    },
    {
     "name": "stderr",
     "output_type": "stream",
     "text": [
      "Using TensorFlow backend.\n"
     ]
    },
    {
     "name": "stdout",
     "output_type": "stream",
     "text": [
      "[2021-09-20 14:00:58][common.utils][DEBUG] Starting 'Loading Model'\n",
      "[2021-09-20 14:01:05][common.utils][DEBUG] Loading Model: 0:00:07.716420\n",
      "[2021-09-20 14:02:09][common.utils][DEBUG] Starting 'Abnormality category prediction'\n",
      "[2021-09-20 14:02:10][common.utils][DEBUG] Starting 'Raw model prediction'\n",
      "[2021-09-20 14:02:18][common.utils][DEBUG] Raw model prediction: 0:00:07.537015\n"
     ]
    },
    {
     "name": "stderr",
     "output_type": "stream",
     "text": [
      "Prediction: [0, 1, 2, 3, 4, 6, 7; probabilities: [0.002633458, 0.0009: 100%|██████████| 114/114 [00:01<00:00, 78.24it/s]\n"
     ]
    },
    {
     "name": "stdout",
     "output_type": "stream",
     "text": [
      "[2021-09-20 14:02:19][common.utils][DEBUG] Abnormality category prediction: 0:00:09.860446\n",
      "[2021-09-20 14:02:19][pre_processing.prepare_data][DEBUG] Done\n"
     ]
    }
   ],
   "source": [
    "logger.debug('----===== Preproceccing train data =====----')\n",
    "image_name_question_processed = pre_process_raw_data(image_name_question)"
   ]
  },
  {
   "cell_type": "code",
   "execution_count": 16,
   "metadata": {},
   "outputs": [
    {
     "data": {
      "text/html": [
       "<div>\n",
       "<style scoped>\n",
       "    .dataframe tbody tr th:only-of-type {\n",
       "        vertical-align: middle;\n",
       "    }\n",
       "\n",
       "    .dataframe tbody tr th {\n",
       "        vertical-align: top;\n",
       "    }\n",
       "\n",
       "    .dataframe thead th {\n",
       "        text-align: right;\n",
       "    }\n",
       "</style>\n",
       "<table border=\"1\" class=\"dataframe\">\n",
       "  <thead>\n",
       "    <tr style=\"text-align: right;\">\n",
       "      <th></th>\n",
       "      <th>image_name</th>\n",
       "      <th>question</th>\n",
       "      <th>answer</th>\n",
       "      <th>group</th>\n",
       "      <th>path</th>\n",
       "      <th>processed_question</th>\n",
       "      <th>processed_answer</th>\n",
       "      <th>diagnosis</th>\n",
       "      <th>question_category</th>\n",
       "      <th>answer_embedding</th>\n",
       "      <th>question_embedding</th>\n",
       "    </tr>\n",
       "  </thead>\n",
       "  <tbody>\n",
       "    <tr>\n",
       "      <th>11713</th>\n",
       "      <td>synpic57173.jpg</td>\n",
       "      <td>what is abnormal in the mri?</td>\n",
       "      <td>medulloblastoma</td>\n",
       "      <td>train</td>\n",
       "      <td>C:\\Users\\Public\\Documents\\Data\\2019\\train\\Trai...</td>\n",
       "      <td>what is abnormal in the mri</td>\n",
       "      <td>medulloblastoma</td>\n",
       "      <td>medulloblastoma</td>\n",
       "      <td>Abnormality_skull_and_contents</td>\n",
       "      <td>[1.0816707611083984, -0.16793766617774963, 3.8...</td>\n",
       "      <td>[-2.741878032684326, 1.224818229675293, -0.289...</td>\n",
       "    </tr>\n",
       "    <tr>\n",
       "      <th>13153</th>\n",
       "      <td>synpic40703.jpg</td>\n",
       "      <td>is this a t1 weighted, t2 weighted, or flair i...</td>\n",
       "      <td>t1</td>\n",
       "      <td>validation</td>\n",
       "      <td>C:\\Users\\Public\\Documents\\Data\\2019\\validation...</td>\n",
       "      <td>is this t1 weighted t2 weighted or flair image</td>\n",
       "      <td>t1</td>\n",
       "      <td></td>\n",
       "      <td>Modality</td>\n",
       "      <td>[-0.6929993629455566, 0.5689356327056885, 5.48...</td>\n",
       "      <td>[1.6257798671722412, 0.3484262228012085, -3.03...</td>\n",
       "    </tr>\n",
       "  </tbody>\n",
       "</table>\n",
       "</div>"
      ],
      "text/plain": [
       "            image_name                                           question  \\\n",
       "11713  synpic57173.jpg                       what is abnormal in the mri?   \n",
       "13153  synpic40703.jpg  is this a t1 weighted, t2 weighted, or flair i...   \n",
       "\n",
       "                answer       group  \\\n",
       "11713  medulloblastoma       train   \n",
       "13153               t1  validation   \n",
       "\n",
       "                                                    path  \\\n",
       "11713  C:\\Users\\Public\\Documents\\Data\\2019\\train\\Trai...   \n",
       "13153  C:\\Users\\Public\\Documents\\Data\\2019\\validation...   \n",
       "\n",
       "                                   processed_question processed_answer  \\\n",
       "11713                     what is abnormal in the mri  medulloblastoma   \n",
       "13153  is this t1 weighted t2 weighted or flair image               t1   \n",
       "\n",
       "             diagnosis               question_category  \\\n",
       "11713  medulloblastoma  Abnormality_skull_and_contents   \n",
       "13153                                         Modality   \n",
       "\n",
       "                                        answer_embedding  \\\n",
       "11713  [1.0816707611083984, -0.16793766617774963, 3.8...   \n",
       "13153  [-0.6929993629455566, 0.5689356327056885, 5.48...   \n",
       "\n",
       "                                      question_embedding  \n",
       "11713  [-2.741878032684326, 1.224818229675293, -0.289...  \n",
       "13153  [1.6257798671722412, 0.3484262228012085, -3.03...  "
      ]
     },
     "execution_count": 16,
     "metadata": {},
     "output_type": "execute_result"
    }
   ],
   "source": [
    "image_name_question_processed.sample(2)"
   ]
  },
  {
   "cell_type": "markdown",
   "metadata": {},
   "source": [
    "Take a look at data of a single image:"
   ]
  },
  {
   "cell_type": "code",
   "execution_count": 17,
   "metadata": {},
   "outputs": [
    {
     "data": {
      "text/html": [
       "<div>\n",
       "<style scoped>\n",
       "    .dataframe tbody tr th:only-of-type {\n",
       "        vertical-align: middle;\n",
       "    }\n",
       "\n",
       "    .dataframe tbody tr th {\n",
       "        vertical-align: top;\n",
       "    }\n",
       "\n",
       "    .dataframe thead th {\n",
       "        text-align: right;\n",
       "    }\n",
       "</style>\n",
       "<table border=\"1\" class=\"dataframe\">\n",
       "  <thead>\n",
       "    <tr style=\"text-align: right;\">\n",
       "      <th></th>\n",
       "      <th>image_name</th>\n",
       "      <th>question</th>\n",
       "      <th>answer</th>\n",
       "      <th>group</th>\n",
       "      <th>path</th>\n",
       "      <th>processed_question</th>\n",
       "      <th>processed_answer</th>\n",
       "      <th>diagnosis</th>\n",
       "      <th>question_category</th>\n",
       "      <th>answer_embedding</th>\n",
       "      <th>question_embedding</th>\n",
       "    </tr>\n",
       "  </thead>\n",
       "  <tbody>\n",
       "    <tr>\n",
       "      <th>3</th>\n",
       "      <td>synpic52143.jpg</td>\n",
       "      <td>is this a noncontrast mri?</td>\n",
       "      <td>no</td>\n",
       "      <td>train</td>\n",
       "      <td>C:\\Users\\Public\\Documents\\Data\\2019\\train\\Trai...</td>\n",
       "      <td>is this noncontrast mri</td>\n",
       "      <td>no</td>\n",
       "      <td></td>\n",
       "      <td>Modality</td>\n",
       "      <td>[0.029011979699134827, 1.9719411134719849, 1.5...</td>\n",
       "      <td>[1.2045111656188965, 0.6815400123596191, -3.26...</td>\n",
       "    </tr>\n",
       "    <tr>\n",
       "      <th>3203</th>\n",
       "      <td>synpic52143.jpg</td>\n",
       "      <td>which plane is the image shown in?</td>\n",
       "      <td>coronal</td>\n",
       "      <td>train</td>\n",
       "      <td>C:\\Users\\Public\\Documents\\Data\\2019\\train\\Trai...</td>\n",
       "      <td>which plane is the image shown in</td>\n",
       "      <td>coronal</td>\n",
       "      <td></td>\n",
       "      <td>Plane</td>\n",
       "      <td>[-2.5162551403045654, -0.6533107757568359, 0.8...</td>\n",
       "      <td>[-2.4232277870178223, 4.579081058502197, 0.132...</td>\n",
       "    </tr>\n",
       "    <tr>\n",
       "      <th>6403</th>\n",
       "      <td>synpic52143.jpg</td>\n",
       "      <td>the mri shows what organ system?</td>\n",
       "      <td>spine and contents</td>\n",
       "      <td>train</td>\n",
       "      <td>C:\\Users\\Public\\Documents\\Data\\2019\\train\\Trai...</td>\n",
       "      <td>the mri shows what organ system</td>\n",
       "      <td>spine and contents</td>\n",
       "      <td></td>\n",
       "      <td>Organ</td>\n",
       "      <td>[3.57601261138916, 2.5560226440429688, 1.97663...</td>\n",
       "      <td>[2.0428223609924316, 0.2528434097766876, -1.45...</td>\n",
       "    </tr>\n",
       "    <tr>\n",
       "      <th>9603</th>\n",
       "      <td>synpic52143.jpg</td>\n",
       "      <td>what is the primary abnormality in this image?</td>\n",
       "      <td>bone tumor/ chordoma</td>\n",
       "      <td>train</td>\n",
       "      <td>C:\\Users\\Public\\Documents\\Data\\2019\\train\\Trai...</td>\n",
       "      <td>what is the primary abnormality in this image</td>\n",
       "      <td>bone tumor chordoma</td>\n",
       "      <td>tumor bone</td>\n",
       "      <td>Abnormality_spine_and_contents</td>\n",
       "      <td>[1.3663643598556519, 0.21053718030452728, -2.3...</td>\n",
       "      <td>[-2.6657872200012207, 1.1844078302383423, 0.02...</td>\n",
       "    </tr>\n",
       "  </tbody>\n",
       "</table>\n",
       "</div>"
      ],
      "text/plain": [
       "           image_name                                        question  \\\n",
       "3     synpic52143.jpg                      is this a noncontrast mri?   \n",
       "3203  synpic52143.jpg              which plane is the image shown in?   \n",
       "6403  synpic52143.jpg                the mri shows what organ system?   \n",
       "9603  synpic52143.jpg  what is the primary abnormality in this image?   \n",
       "\n",
       "                    answer  group  \\\n",
       "3                       no  train   \n",
       "3203               coronal  train   \n",
       "6403    spine and contents  train   \n",
       "9603  bone tumor/ chordoma  train   \n",
       "\n",
       "                                                   path  \\\n",
       "3     C:\\Users\\Public\\Documents\\Data\\2019\\train\\Trai...   \n",
       "3203  C:\\Users\\Public\\Documents\\Data\\2019\\train\\Trai...   \n",
       "6403  C:\\Users\\Public\\Documents\\Data\\2019\\train\\Trai...   \n",
       "9603  C:\\Users\\Public\\Documents\\Data\\2019\\train\\Trai...   \n",
       "\n",
       "                                 processed_question     processed_answer  \\\n",
       "3                           is this noncontrast mri                   no   \n",
       "3203              which plane is the image shown in              coronal   \n",
       "6403                the mri shows what organ system   spine and contents   \n",
       "9603  what is the primary abnormality in this image  bone tumor chordoma   \n",
       "\n",
       "       diagnosis               question_category  \\\n",
       "3                                       Modality   \n",
       "3203                                       Plane   \n",
       "6403                                       Organ   \n",
       "9603  tumor bone  Abnormality_spine_and_contents   \n",
       "\n",
       "                                       answer_embedding  \\\n",
       "3     [0.029011979699134827, 1.9719411134719849, 1.5...   \n",
       "3203  [-2.5162551403045654, -0.6533107757568359, 0.8...   \n",
       "6403  [3.57601261138916, 2.5560226440429688, 1.97663...   \n",
       "9603  [1.3663643598556519, 0.21053718030452728, -2.3...   \n",
       "\n",
       "                                     question_embedding  \n",
       "3     [1.2045111656188965, 0.6815400123596191, -3.26...  \n",
       "3203  [-2.4232277870178223, 4.579081058502197, 0.132...  \n",
       "6403  [2.0428223609924316, 0.2528434097766876, -1.45...  \n",
       "9603  [-2.6657872200012207, 1.1844078302383423, 0.02...  "
      ]
     },
     "execution_count": 17,
     "metadata": {},
     "output_type": "execute_result"
    }
   ],
   "source": [
    "image_name_question_processed[image_name_question_processed.image_name == 'synpic52143.jpg'].head()"
   ]
  },
  {
   "cell_type": "code",
   "execution_count": 18,
   "metadata": {},
   "outputs": [],
   "source": [
    "from collections import Counter"
   ]
  },
  {
   "cell_type": "markdown",
   "metadata": {},
   "source": [
    "How many categories did we get for questions?"
   ]
  },
  {
   "cell_type": "code",
   "execution_count": 19,
   "metadata": {},
   "outputs": [
    {
     "name": "stdout",
     "output_type": "stream",
     "text": [
      "--Test--\n",
      "Counter({'Organ': 126, 'Modality': 125, 'Plane': 125, 'Abnormality_skull_and_contents': 33, 'Abnormality_gastrointestinal': 27, 'Abnormality_musculoskeletal': 18, 'Abnormality_yes_no': 10, 'Abnormality_heart_and_great_vessels': 10, 'Abnormality_lung_mediastinum_pleura': 8, 'Abnormality_face_sinuses_and_neck': 7, 'Abnormality_genitourinary': 7, 'Abnormality_spine_and_contents': 3, 'Abnormality_vascular_and_lymphatic': 1})\n",
      "--All--\n",
      "Counter({'Organ': 3826, 'Modality': 3825, 'Plane': 3825, 'Abnormality_skull_and_contents': 1395, 'Abnormality_musculoskeletal': 505, 'Abnormality_gastrointestinal': 422, 'Abnormality_spine_and_contents': 275, 'Abnormality_lung_mediastinum_pleura': 273, 'Abnormality_genitourinary': 242, 'Abnormality_face_sinuses_and_neck': 226, 'Abnormality_vascular_and_lymphatic': 144, 'Abnormality_yes_no': 143, 'Abnormality_heart_and_great_vessels': 129, 'Abnormality_breast': 62})\n"
     ]
    }
   ],
   "source": [
    "print('--Test--')\n",
    "print(Counter(image_name_question_processed[image_name_question_processed.group=='test'].question_category.values))\n",
    "print('--All--')\n",
    "print(Counter(image_name_question_processed.question_category.values))"
   ]
  },
  {
   "cell_type": "markdown",
   "metadata": {},
   "source": [
    "#### Saving the data, so later on we don't need to compute it again"
   ]
  },
  {
   "cell_type": "code",
   "execution_count": 20,
   "metadata": {
    "collapsed": false,
    "jupyter": {
     "outputs_hidden": false
    }
   },
   "outputs": [
    {
     "name": "stdout",
     "output_type": "stream",
     "text": [
      "[2021-09-20 14:02:20][data_access.api][DEBUG] Saving the processed data to:\n",
      "C:\\Users\\avitu\\Documents\\GitHub\\VQA-MED\\VQA-MED\\VQA.Python\\data\\model_input.parquet\n",
      "[2021-09-20 14:02:20][common.utils][DEBUG] Starting 'Saving processed data'\n",
      "[2021-09-20 14:02:42][common.utils][DEBUG] Saving processed data: 0:00:22.584208\n"
     ]
    }
   ],
   "source": [
    "saved_path = data_access.save_processed_data(image_name_question_processed)"
   ]
  },
  {
   "cell_type": "code",
   "execution_count": 21,
   "metadata": {},
   "outputs": [
    {
     "name": "stdout",
     "output_type": "stream",
     "text": [
      "Data saved at:\n",
      "C:\\Users\\avitu\\Documents\\GitHub\\VQA-MED\\VQA-MED\\VQA.Python\\data\\model_input.parquet\n"
     ]
    }
   ],
   "source": [
    "print(f'Data saved at:\\n{saved_path}')"
   ]
  }
 ],
 "metadata": {
  "kernelspec": {
   "display_name": "Python 3",
   "language": "python",
   "name": "python3"
  },
  "language_info": {
   "codemirror_mode": {
    "name": "ipython",
    "version": 3
   },
   "file_extension": ".py",
   "mimetype": "text/x-python",
   "name": "python",
   "nbconvert_exporter": "python",
   "pygments_lexer": "ipython3",
   "version": "3.6.7"
  }
 },
 "nbformat": 4,
 "nbformat_minor": 4
}
