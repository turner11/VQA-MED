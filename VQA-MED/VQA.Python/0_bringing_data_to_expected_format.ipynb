{
 "cells": [
  {
   "cell_type": "markdown",
   "metadata": {},
   "source": [
    "# Bringing data to expected format"
   ]
  },
  {
   "cell_type": "markdown",
   "metadata": {},
   "source": [
    "The raw input data is a pipe-delimited text in the following format:  \n",
    "*image_id | question | answer*  \n",
    "Before we start the process, we will bring the data into a more convinient format - Pandas DataFrame  "
   ]
  },
  {
   "cell_type": "markdown",
   "metadata": {},
   "source": [
    "For bringing the data to a normalized state we will use the function **normalize_data_strucrture**, Defined as depiceted below.  \n",
    "The process will be done for train, validation and test sets, and finally, combined to gether to a single dataframe."
   ]
  },
  {
   "cell_type": "markdown",
   "metadata": {},
   "source": [
    "### Some main functions we used:"
   ]
  },
  {
   "cell_type": "code",
   "execution_count": 1,
   "metadata": {},
   "outputs": [],
   "source": [
    "import IPython\n",
    "from common.functions import get_size, get_highlighted_function_code"
   ]
  },
  {
   "cell_type": "code",
   "execution_count": 2,
   "metadata": {},
   "outputs": [
    {
     "data": {
      "text/html": [
       "<style type=\"text/css\">.highlight .hll { background-color: #ffffcc }\n",
       ".highlight  { background: #f8f8f8; }\n",
       ".highlight .c { color: #408080; font-style: italic } /* Comment */\n",
       ".highlight .err { border: 1px solid #FF0000 } /* Error */\n",
       ".highlight .k { color: #008000; font-weight: bold } /* Keyword */\n",
       ".highlight .o { color: #666666 } /* Operator */\n",
       ".highlight .ch { color: #408080; font-style: italic } /* Comment.Hashbang */\n",
       ".highlight .cm { color: #408080; font-style: italic } /* Comment.Multiline */\n",
       ".highlight .cp { color: #BC7A00 } /* Comment.Preproc */\n",
       ".highlight .cpf { color: #408080; font-style: italic } /* Comment.PreprocFile */\n",
       ".highlight .c1 { color: #408080; font-style: italic } /* Comment.Single */\n",
       ".highlight .cs { color: #408080; font-style: italic } /* Comment.Special */\n",
       ".highlight .gd { color: #A00000 } /* Generic.Deleted */\n",
       ".highlight .ge { font-style: italic } /* Generic.Emph */\n",
       ".highlight .gr { color: #FF0000 } /* Generic.Error */\n",
       ".highlight .gh { color: #000080; font-weight: bold } /* Generic.Heading */\n",
       ".highlight .gi { color: #00A000 } /* Generic.Inserted */\n",
       ".highlight .go { color: #888888 } /* Generic.Output */\n",
       ".highlight .gp { color: #000080; font-weight: bold } /* Generic.Prompt */\n",
       ".highlight .gs { font-weight: bold } /* Generic.Strong */\n",
       ".highlight .gu { color: #800080; font-weight: bold } /* Generic.Subheading */\n",
       ".highlight .gt { color: #0044DD } /* Generic.Traceback */\n",
       ".highlight .kc { color: #008000; font-weight: bold } /* Keyword.Constant */\n",
       ".highlight .kd { color: #008000; font-weight: bold } /* Keyword.Declaration */\n",
       ".highlight .kn { color: #008000; font-weight: bold } /* Keyword.Namespace */\n",
       ".highlight .kp { color: #008000 } /* Keyword.Pseudo */\n",
       ".highlight .kr { color: #008000; font-weight: bold } /* Keyword.Reserved */\n",
       ".highlight .kt { color: #B00040 } /* Keyword.Type */\n",
       ".highlight .m { color: #666666 } /* Literal.Number */\n",
       ".highlight .s { color: #BA2121 } /* Literal.String */\n",
       ".highlight .na { color: #7D9029 } /* Name.Attribute */\n",
       ".highlight .nb { color: #008000 } /* Name.Builtin */\n",
       ".highlight .nc { color: #0000FF; font-weight: bold } /* Name.Class */\n",
       ".highlight .no { color: #880000 } /* Name.Constant */\n",
       ".highlight .nd { color: #AA22FF } /* Name.Decorator */\n",
       ".highlight .ni { color: #999999; font-weight: bold } /* Name.Entity */\n",
       ".highlight .ne { color: #D2413A; font-weight: bold } /* Name.Exception */\n",
       ".highlight .nf { color: #0000FF } /* Name.Function */\n",
       ".highlight .nl { color: #A0A000 } /* Name.Label */\n",
       ".highlight .nn { color: #0000FF; font-weight: bold } /* Name.Namespace */\n",
       ".highlight .nt { color: #008000; font-weight: bold } /* Name.Tag */\n",
       ".highlight .nv { color: #19177C } /* Name.Variable */\n",
       ".highlight .ow { color: #AA22FF; font-weight: bold } /* Operator.Word */\n",
       ".highlight .w { color: #bbbbbb } /* Text.Whitespace */\n",
       ".highlight .mb { color: #666666 } /* Literal.Number.Bin */\n",
       ".highlight .mf { color: #666666 } /* Literal.Number.Float */\n",
       ".highlight .mh { color: #666666 } /* Literal.Number.Hex */\n",
       ".highlight .mi { color: #666666 } /* Literal.Number.Integer */\n",
       ".highlight .mo { color: #666666 } /* Literal.Number.Oct */\n",
       ".highlight .sa { color: #BA2121 } /* Literal.String.Affix */\n",
       ".highlight .sb { color: #BA2121 } /* Literal.String.Backtick */\n",
       ".highlight .sc { color: #BA2121 } /* Literal.String.Char */\n",
       ".highlight .dl { color: #BA2121 } /* Literal.String.Delimiter */\n",
       ".highlight .sd { color: #BA2121; font-style: italic } /* Literal.String.Doc */\n",
       ".highlight .s2 { color: #BA2121 } /* Literal.String.Double */\n",
       ".highlight .se { color: #BB6622; font-weight: bold } /* Literal.String.Escape */\n",
       ".highlight .sh { color: #BA2121 } /* Literal.String.Heredoc */\n",
       ".highlight .si { color: #BB6688; font-weight: bold } /* Literal.String.Interpol */\n",
       ".highlight .sx { color: #008000 } /* Literal.String.Other */\n",
       ".highlight .sr { color: #BB6688 } /* Literal.String.Regex */\n",
       ".highlight .s1 { color: #BA2121 } /* Literal.String.Single */\n",
       ".highlight .ss { color: #19177C } /* Literal.String.Symbol */\n",
       ".highlight .bp { color: #008000 } /* Name.Builtin.Pseudo */\n",
       ".highlight .fm { color: #0000FF } /* Name.Function.Magic */\n",
       ".highlight .vc { color: #19177C } /* Name.Variable.Class */\n",
       ".highlight .vg { color: #19177C } /* Name.Variable.Global */\n",
       ".highlight .vi { color: #19177C } /* Name.Variable.Instance */\n",
       ".highlight .vm { color: #19177C } /* Name.Variable.Magic */\n",
       ".highlight .il { color: #666666 } /* Literal.Number.Integer.Long */</style><div class=\"highlight\"><pre><span></span><span class=\"k\">def</span> <span class=\"nf\">normalize_data_strucrture</span><span class=\"p\">(</span><span class=\"n\">df</span><span class=\"p\">,</span> <span class=\"n\">group</span><span class=\"p\">,</span> <span class=\"n\">image_folder</span><span class=\"p\">):</span>\n",
       "    <span class=\"n\">cols</span> <span class=\"o\">=</span> <span class=\"p\">[</span><span class=\"s1\">&#39;image_name&#39;</span><span class=\"p\">,</span> <span class=\"s1\">&#39;question&#39;</span><span class=\"p\">,</span> <span class=\"s1\">&#39;answer&#39;</span><span class=\"p\">]</span>\n",
       "    <span class=\"n\">df_c</span> <span class=\"o\">=</span> <span class=\"n\">df</span><span class=\"p\">[</span><span class=\"n\">cols</span><span class=\"p\">]</span><span class=\"o\">.</span><span class=\"n\">copy</span><span class=\"p\">()</span>\n",
       "    <span class=\"n\">df_c</span><span class=\"p\">[</span><span class=\"s1\">&#39;group&#39;</span><span class=\"p\">]</span> <span class=\"o\">=</span> <span class=\"n\">group</span>\n",
       "    <span class=\"n\">df_c</span><span class=\"p\">[</span><span class=\"s1\">&#39;path&#39;</span><span class=\"p\">]</span> <span class=\"o\">=</span> <span class=\"s1\">&#39;&#39;</span>\n",
       "\n",
       "    <span class=\"k\">if</span> <span class=\"nb\">len</span><span class=\"p\">(</span><span class=\"n\">df_c</span><span class=\"p\">)</span> <span class=\"o\">==</span> <span class=\"mi\">0</span><span class=\"p\">:</span>\n",
       "        <span class=\"k\">return</span> <span class=\"n\">df_c</span>\n",
       "\n",
       "    <span class=\"k\">def</span> <span class=\"nf\">get_image_path</span><span class=\"p\">(</span><span class=\"n\">image_name</span><span class=\"p\">):</span>\n",
       "        <span class=\"k\">return</span> <span class=\"n\">os</span><span class=\"o\">.</span><span class=\"n\">path</span><span class=\"o\">.</span><span class=\"n\">join</span><span class=\"p\">(</span><span class=\"n\">image_folder</span><span class=\"p\">,</span> <span class=\"n\">image_name</span> <span class=\"o\">+</span> <span class=\"s1\">&#39;.jpg&#39;</span><span class=\"p\">)</span>\n",
       "\n",
       "    <span class=\"n\">df_c</span><span class=\"p\">[</span><span class=\"s1\">&#39;path&#39;</span><span class=\"p\">]</span> <span class=\"o\">=</span> <span class=\"n\">df_c</span><span class=\"o\">.</span><span class=\"n\">apply</span><span class=\"p\">(</span><span class=\"k\">lambda</span> <span class=\"n\">x</span><span class=\"p\">:</span> <span class=\"n\">get_image_path</span><span class=\"p\">(</span><span class=\"n\">x</span><span class=\"p\">[</span><span class=\"s1\">&#39;image_name&#39;</span><span class=\"p\">]),</span>\n",
       "                              <span class=\"n\">axis</span><span class=\"o\">=</span><span class=\"mi\">1</span><span class=\"p\">)</span>  <span class=\"c1\"># x: get_image_path(x[&#39;group&#39;],x[&#39;image_name&#39;])</span>\n",
       "\n",
       "    <span class=\"k\">return</span> <span class=\"n\">df_c</span>\n",
       "</pre></div>\n"
      ],
      "text/plain": [
       "<IPython.core.display.HTML object>"
      ]
     },
     "metadata": {},
     "output_type": "display_data"
    }
   ],
   "source": [
    "from pre_processing.prepare_data import normalize_data_strucrture\n",
    "code = get_highlighted_function_code(normalize_data_strucrture,remove_comments=True)\n",
    "IPython.display.display(code)"
   ]
  },
  {
   "cell_type": "markdown",
   "metadata": {},
   "source": [
    "---\n",
    "## The code:"
   ]
  },
  {
   "cell_type": "code",
   "execution_count": 3,
   "metadata": {},
   "outputs": [],
   "source": [
    "import os\n",
    "from pandas import HDFStore\n",
    "import pandas as pd\n",
    "from common.settings import train_data, validation_data, test_data, data_access\n",
    "from parsers.data_loader import DataLoader\n",
    "import vqa_logger \n",
    "import logging\n",
    "\n",
    "logger = logging.getLogger(__name__)"
   ]
  },
  {
   "cell_type": "code",
   "execution_count": 4,
   "metadata": {},
   "outputs": [
    {
     "name": "stdout",
     "output_type": "stream",
     "text": [
      "[2021-09-20 13:46:14][parsers.data_loader][DEBUG] Attempting to get data from \"2019 Raw Path -> Data\"\n",
      "[2021-09-20 13:46:15][parsers.data_loader][DEBUG] Attempting to get data from \"2019 Raw Path -> Data\"\n",
      "[2021-09-20 13:46:15][parsers.data_loader][DEBUG] Attempting to get data from \"2019 Raw Path -> Data\"\n"
     ]
    }
   ],
   "source": [
    "df_train = DataLoader.get_data(train_data.qa_path)\n",
    "df_valid = DataLoader.get_data(validation_data.qa_path)\n",
    "df_test = DataLoader.get_data(test_data.qa_path)"
   ]
  },
  {
   "cell_type": "code",
   "execution_count": 5,
   "metadata": {},
   "outputs": [
    {
     "data": {
      "text/html": [
       "<div>\n",
       "<style scoped>\n",
       "    .dataframe tbody tr th:only-of-type {\n",
       "        vertical-align: middle;\n",
       "    }\n",
       "\n",
       "    .dataframe tbody tr th {\n",
       "        vertical-align: top;\n",
       "    }\n",
       "\n",
       "    .dataframe thead th {\n",
       "        text-align: right;\n",
       "    }\n",
       "</style>\n",
       "<table border=\"1\" class=\"dataframe\">\n",
       "  <thead>\n",
       "    <tr style=\"text-align: right;\">\n",
       "      <th></th>\n",
       "      <th>image_name</th>\n",
       "      <th>question</th>\n",
       "      <th>answer</th>\n",
       "      <th>group</th>\n",
       "      <th>path</th>\n",
       "    </tr>\n",
       "  </thead>\n",
       "  <tbody>\n",
       "    <tr>\n",
       "      <th>0</th>\n",
       "      <td>synpic41148</td>\n",
       "      <td>what kind of image is this?</td>\n",
       "      <td>cta - ct angiography</td>\n",
       "      <td>train</td>\n",
       "      <td>C:\\Users\\Public\\Documents\\Data\\2019\\train\\Trai...</td>\n",
       "    </tr>\n",
       "    <tr>\n",
       "      <th>1</th>\n",
       "      <td>synpic43984</td>\n",
       "      <td>is this a t1 weighted image?</td>\n",
       "      <td>no</td>\n",
       "      <td>train</td>\n",
       "      <td>C:\\Users\\Public\\Documents\\Data\\2019\\train\\Trai...</td>\n",
       "    </tr>\n",
       "    <tr>\n",
       "      <th>2</th>\n",
       "      <td>synpic38930</td>\n",
       "      <td>what type of imaging modality is used to acqui...</td>\n",
       "      <td>us - ultrasound</td>\n",
       "      <td>train</td>\n",
       "      <td>C:\\Users\\Public\\Documents\\Data\\2019\\train\\Trai...</td>\n",
       "    </tr>\n",
       "    <tr>\n",
       "      <th>3</th>\n",
       "      <td>synpic52143</td>\n",
       "      <td>is this a noncontrast mri?</td>\n",
       "      <td>no</td>\n",
       "      <td>train</td>\n",
       "      <td>C:\\Users\\Public\\Documents\\Data\\2019\\train\\Trai...</td>\n",
       "    </tr>\n",
       "    <tr>\n",
       "      <th>4</th>\n",
       "      <td>synpic20934</td>\n",
       "      <td>what type of image modality is this?</td>\n",
       "      <td>xr - plain film</td>\n",
       "      <td>train</td>\n",
       "      <td>C:\\Users\\Public\\Documents\\Data\\2019\\train\\Trai...</td>\n",
       "    </tr>\n",
       "  </tbody>\n",
       "</table>\n",
       "</div>"
      ],
      "text/plain": [
       "    image_name                                           question  \\\n",
       "0  synpic41148                        what kind of image is this?   \n",
       "1  synpic43984                       is this a t1 weighted image?   \n",
       "2  synpic38930  what type of imaging modality is used to acqui...   \n",
       "3  synpic52143                         is this a noncontrast mri?   \n",
       "4  synpic20934               what type of image modality is this?   \n",
       "\n",
       "                 answer  group  \\\n",
       "0  cta - ct angiography  train   \n",
       "1                    no  train   \n",
       "2       us - ultrasound  train   \n",
       "3                    no  train   \n",
       "4       xr - plain film  train   \n",
       "\n",
       "                                                path  \n",
       "0  C:\\Users\\Public\\Documents\\Data\\2019\\train\\Trai...  \n",
       "1  C:\\Users\\Public\\Documents\\Data\\2019\\train\\Trai...  \n",
       "2  C:\\Users\\Public\\Documents\\Data\\2019\\train\\Trai...  \n",
       "3  C:\\Users\\Public\\Documents\\Data\\2019\\train\\Trai...  \n",
       "4  C:\\Users\\Public\\Documents\\Data\\2019\\train\\Trai...  "
      ]
     },
     "execution_count": 5,
     "metadata": {},
     "output_type": "execute_result"
    }
   ],
   "source": [
    "def normalize_data(df, set_info):\n",
    "    normed = normalize_data_strucrture(df, set_info.tag, set_info.images_folder)\n",
    "    return normed\n",
    "\n",
    "df_nt = normalize_data(df_train, train_data)\n",
    "df_nv = normalize_data(df_valid, validation_data)\n",
    "df_ntest = normalize_data(df_test, test_data)\n",
    "\n",
    "df = pd.concat([df_nt, df_nv, df_ntest])\n",
    "    \n",
    "df.describe()\n",
    "df.head()"
   ]
  },
  {
   "cell_type": "markdown",
   "metadata": {},
   "source": [
    "### Save the data"
   ]
  },
  {
   "cell_type": "code",
   "execution_count": 6,
   "metadata": {},
   "outputs": [
    {
     "name": "stderr",
     "output_type": "stream",
     "text": [
      "C:\\Users\\avitu\\AppData\\Roaming\\Python\\Python36\\site-packages\\ipykernel_launcher.py:1: PerformanceWarning: \n",
      "your performance may suffer as PyTables will pickle object types that it cannot\n",
      "map directly to c-types [inferred_type->mixed,key->block0_values] [items->['image_name', 'question', 'answer', 'group', 'path']]\n",
      "\n",
      "  \"\"\"Entry point for launching an IPython kernel.\n"
     ]
    }
   ],
   "source": [
    "save_location = data_access.save_raw_input(df)"
   ]
  },
  {
   "cell_type": "code",
   "execution_count": 7,
   "metadata": {},
   "outputs": [
    {
     "name": "stdout",
     "output_type": "stream",
     "text": [
      "data saved to:\n",
      "C:\\Users\\avitu\\Documents\\GitHub\\VQA-MED\\VQA-MED\\VQA.Python\\data\\raw_data.h5\n"
     ]
    }
   ],
   "source": [
    "print(f'data saved to:\\n{save_location}')"
   ]
  },
  {
   "cell_type": "code",
   "execution_count": null,
   "metadata": {},
   "outputs": [],
   "source": []
  }
 ],
 "metadata": {
  "kernelspec": {
   "display_name": "Python 3",
   "language": "python",
   "name": "python3"
  },
  "language_info": {
   "codemirror_mode": {
    "name": "ipython",
    "version": 3
   },
   "file_extension": ".py",
   "mimetype": "text/x-python",
   "name": "python",
   "nbconvert_exporter": "python",
   "pygments_lexer": "ipython3",
   "version": "3.6.7"
  }
 },
 "nbformat": 4,
 "nbformat_minor": 4
}
